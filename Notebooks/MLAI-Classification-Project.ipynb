{
 "cells": [
  {
   "cell_type": "markdown",
   "metadata": {
    "id": "As6_vaNx08nk"
   },
   "source": [
    "**Classification Analysis Project - Machine Learning With R - Jiri Bartl**"
   ]
  },
  {
   "cell_type": "markdown",
   "metadata": {
    "id": "0HdnXEut08jR"
   },
   "source": [
    "**Introduction**\n",
    "\n",
    "In an effort to diversify its revenue stream and enhance customer experience, meal delivery service Apprentice Chef has launched a unique cross-selling promotion called \"Halfway There\" where subscribers receive a half bottle of wine from a local California vineyard every Wednesday. This initiative aims to create a competitive advantage by offering hard-to-find local wines from smaller vineyards. The company wants to understand which customers are likely to subscribe to this new service.\n",
    "\n",
    "We have been given a data set with approximately 2,000 customers who have been exclusively offered the \"Halfway There\" promotion. The goal is to come up with meaningful insights, and build a machine learning model to predict which customers will subscribe to the \"Halfway There\" service.\n",
    "\n",
    "This assignment is structured in several segments, following logical steps from initial data processing, exploratory data analysis, feature engineering, model experiments, and final model selection."
   ]
  },
  {
   "cell_type": "code",
   "execution_count": 97,
   "metadata": {
    "colab": {
     "base_uri": "https://localhost:8080/"
    },
    "id": "loomrKHaxz6M",
    "outputId": "341ff621-20e0-4e28-cbc2-0cc6c42437d3"
   },
   "outputs": [
    {
     "name": "stderr",
     "output_type": "stream",
     "text": [
      "Installing package into ‘/usr/local/lib/R/site-library’\n",
      "(as ‘lib’ is unspecified)\n",
      "\n",
      "Installing package into ‘/usr/local/lib/R/site-library’\n",
      "(as ‘lib’ is unspecified)\n",
      "\n",
      "Installing package into ‘/usr/local/lib/R/site-library’\n",
      "(as ‘lib’ is unspecified)\n",
      "\n",
      "Installing package into ‘/usr/local/lib/R/site-library’\n",
      "(as ‘lib’ is unspecified)\n",
      "\n",
      "Installing package into ‘/usr/local/lib/R/site-library’\n",
      "(as ‘lib’ is unspecified)\n",
      "\n",
      "Installing package into ‘/usr/local/lib/R/site-library’\n",
      "(as ‘lib’ is unspecified)\n",
      "\n",
      "Installing package into ‘/usr/local/lib/R/site-library’\n",
      "(as ‘lib’ is unspecified)\n",
      "\n",
      "Installing package into ‘/usr/local/lib/R/site-library’\n",
      "(as ‘lib’ is unspecified)\n",
      "\n",
      "Installing package into ‘/usr/local/lib/R/site-library’\n",
      "(as ‘lib’ is unspecified)\n",
      "\n",
      "Installing package into ‘/usr/local/lib/R/site-library’\n",
      "(as ‘lib’ is unspecified)\n",
      "\n",
      "Installing package into ‘/usr/local/lib/R/site-library’\n",
      "(as ‘lib’ is unspecified)\n",
      "\n",
      "Installing package into ‘/usr/local/lib/R/site-library’\n",
      "(as ‘lib’ is unspecified)\n",
      "\n",
      "Installing package into ‘/usr/local/lib/R/site-library’\n",
      "(as ‘lib’ is unspecified)\n",
      "\n",
      "Installing package into ‘/usr/local/lib/R/site-library’\n",
      "(as ‘lib’ is unspecified)\n",
      "\n"
     ]
    }
   ],
   "source": [
    "# installing new libraries\n",
    "#install.packages(\"rpart\")\n",
    "#install.packages(\"pROC\")\n",
    "#install.packages(\"readxl\")\n",
    "#install.packages(\"glue\")\n",
    "#install.packages(\"ggplot2\")\n",
    "#install.packages(\"magrittr\")\n",
    "#install.packages(\"dplyr\")\n",
    "#install.packages(\"DT\")\n",
    "#install.packages(\"moments\")\n",
    "#install.packages(\"repr\")\n",
    "#install.packages(\"caret\")\n",
    "#install.packages(\"corrplot\")\n",
    "#install.packages(\"psych\")\n",
    "#install.packages(\"rpart.plot\") #collab wants the .plot to be installed separately and not part of the \"rpart\""
   ]
  },
  {
   "cell_type": "markdown",
   "metadata": {
    "id": "3tJFo6wD40od"
   },
   "source": []
  },
  {
   "cell_type": "code",
   "execution_count": 98,
   "metadata": {
    "colab": {
     "base_uri": "https://localhost:8080/",
     "height": 69
    },
    "id": "FQSXTt5Z40Y3",
    "outputId": "af8ca5fd-a54b-45a8-9de4-8c85ad6164ae"
   },
   "outputs": [
    {
     "data": {
      "text/html": [
       "<style>\n",
       ".list-inline {list-style: none; margin:0; padding: 0}\n",
       ".list-inline>li {display: inline-block}\n",
       ".list-inline>li:not(:last-child)::after {content: \"\\00b7\"; padding: 0 .5ex}\n",
       "</style>\n",
       "<ol class=list-inline><li>'REVENUE'</li><li>'CROSS_SELL_SUCCESS'</li><li>'EMAIL_DOMAIN'</li><li>'TOTAL_MEALS_ORDERED'</li><li>'UNIQUE_MEALS_PURCH'</li><li>'CONTACTS_W_CUSTOMER_SERVICE'</li><li>'PRODUCT_CATEGORIES_VIEWED'</li><li>'AVG_TIME_PER_SITE_VISIT'</li><li>'MOBILE_NUMBER'</li><li>'CANCELLATIONS_BEFORE_NOON'</li><li>'CANCELLATIONS_AFTER_NOON'</li><li>'TASTES_AND_PREFERENCES'</li><li>'MOBILE_LOGINS'</li><li>'PC_LOGINS'</li><li>'WEEKLY_PLAN'</li><li>'EARLY_DELIVERIES'</li><li>'LATE_DELIVERIES'</li><li>'PACKAGE_LOCKER'</li><li>'REFRIGERATED_LOCKER'</li><li>'FOLLOWED_RECOMMENDATIONS_PCT'</li><li>'AVG_PREP_VID_TIME'</li><li>'LARGEST_ORDER_SIZE'</li><li>'MASTER_CLASSES_ATTENDED'</li><li>'MEDIAN_MEAL_RATING'</li><li>'AVG_CLICKS_PER_VISIT'</li><li>'TOTAL_PHOTOS_VIEWED'</li></ol>\n"
      ],
      "text/latex": [
       "\\begin{enumerate*}\n",
       "\\item 'REVENUE'\n",
       "\\item 'CROSS\\_SELL\\_SUCCESS'\n",
       "\\item 'EMAIL\\_DOMAIN'\n",
       "\\item 'TOTAL\\_MEALS\\_ORDERED'\n",
       "\\item 'UNIQUE\\_MEALS\\_PURCH'\n",
       "\\item 'CONTACTS\\_W\\_CUSTOMER\\_SERVICE'\n",
       "\\item 'PRODUCT\\_CATEGORIES\\_VIEWED'\n",
       "\\item 'AVG\\_TIME\\_PER\\_SITE\\_VISIT'\n",
       "\\item 'MOBILE\\_NUMBER'\n",
       "\\item 'CANCELLATIONS\\_BEFORE\\_NOON'\n",
       "\\item 'CANCELLATIONS\\_AFTER\\_NOON'\n",
       "\\item 'TASTES\\_AND\\_PREFERENCES'\n",
       "\\item 'MOBILE\\_LOGINS'\n",
       "\\item 'PC\\_LOGINS'\n",
       "\\item 'WEEKLY\\_PLAN'\n",
       "\\item 'EARLY\\_DELIVERIES'\n",
       "\\item 'LATE\\_DELIVERIES'\n",
       "\\item 'PACKAGE\\_LOCKER'\n",
       "\\item 'REFRIGERATED\\_LOCKER'\n",
       "\\item 'FOLLOWED\\_RECOMMENDATIONS\\_PCT'\n",
       "\\item 'AVG\\_PREP\\_VID\\_TIME'\n",
       "\\item 'LARGEST\\_ORDER\\_SIZE'\n",
       "\\item 'MASTER\\_CLASSES\\_ATTENDED'\n",
       "\\item 'MEDIAN\\_MEAL\\_RATING'\n",
       "\\item 'AVG\\_CLICKS\\_PER\\_VISIT'\n",
       "\\item 'TOTAL\\_PHOTOS\\_VIEWED'\n",
       "\\end{enumerate*}\n"
      ],
      "text/markdown": [
       "1. 'REVENUE'\n",
       "2. 'CROSS_SELL_SUCCESS'\n",
       "3. 'EMAIL_DOMAIN'\n",
       "4. 'TOTAL_MEALS_ORDERED'\n",
       "5. 'UNIQUE_MEALS_PURCH'\n",
       "6. 'CONTACTS_W_CUSTOMER_SERVICE'\n",
       "7. 'PRODUCT_CATEGORIES_VIEWED'\n",
       "8. 'AVG_TIME_PER_SITE_VISIT'\n",
       "9. 'MOBILE_NUMBER'\n",
       "10. 'CANCELLATIONS_BEFORE_NOON'\n",
       "11. 'CANCELLATIONS_AFTER_NOON'\n",
       "12. 'TASTES_AND_PREFERENCES'\n",
       "13. 'MOBILE_LOGINS'\n",
       "14. 'PC_LOGINS'\n",
       "15. 'WEEKLY_PLAN'\n",
       "16. 'EARLY_DELIVERIES'\n",
       "17. 'LATE_DELIVERIES'\n",
       "18. 'PACKAGE_LOCKER'\n",
       "19. 'REFRIGERATED_LOCKER'\n",
       "20. 'FOLLOWED_RECOMMENDATIONS_PCT'\n",
       "21. 'AVG_PREP_VID_TIME'\n",
       "22. 'LARGEST_ORDER_SIZE'\n",
       "23. 'MASTER_CLASSES_ATTENDED'\n",
       "24. 'MEDIAN_MEAL_RATING'\n",
       "25. 'AVG_CLICKS_PER_VISIT'\n",
       "26. 'TOTAL_PHOTOS_VIEWED'\n",
       "\n",
       "\n"
      ],
      "text/plain": [
       " [1] \"REVENUE\"                      \"CROSS_SELL_SUCCESS\"           \"EMAIL_DOMAIN\"                 \"TOTAL_MEALS_ORDERED\"          \"UNIQUE_MEALS_PURCH\"           \"CONTACTS_W_CUSTOMER_SERVICE\"  \"PRODUCT_CATEGORIES_VIEWED\"    \"AVG_TIME_PER_SITE_VISIT\"      \"MOBILE_NUMBER\"                \"CANCELLATIONS_BEFORE_NOON\"    \"CANCELLATIONS_AFTER_NOON\"     \"TASTES_AND_PREFERENCES\"       \"MOBILE_LOGINS\"                \"PC_LOGINS\"                    \"WEEKLY_PLAN\"                  \"EARLY_DELIVERIES\"             \"LATE_DELIVERIES\"              \"PACKAGE_LOCKER\"               \"REFRIGERATED_LOCKER\"          \"FOLLOWED_RECOMMENDATIONS_PCT\" \"AVG_PREP_VID_TIME\"            \"LARGEST_ORDER_SIZE\"           \"MASTER_CLASSES_ATTENDED\"      \"MEDIAN_MEAL_RATING\"           \"AVG_CLICKS_PER_VISIT\"         \"TOTAL_PHOTOS_VIEWED\"         "
      ]
     },
     "metadata": {},
     "output_type": "display_data"
    }
   ],
   "source": [
    "# importing libraries\n",
    "library(readxl)   # for reading Excel files\n",
    "library(glue)     # dynamic printing\n",
    "library(ggplot2)  # for graphical output\n",
    "library(magrittr) # piping\n",
    "library(dplyr)    # for data manipulation\n",
    "library(DT)       # data tables\n",
    "library(corrplot) # correlation plots\n",
    "library(psych)    # statistics\n",
    "library(moments)  #for skeweness\n",
    "library(repr)     # plot dimensions\n",
    "library(caret)    # essential modeling tools (new)\n",
    "library(rpart)        # (New!) decision trees\n",
    "library(rpart.plot)   # (New!) decision tree visualizations\n",
    "library(pROC)     # roc curve\n",
    "\n",
    "# setting options for better display\n",
    "options(max.print = 500)\n",
    "options(width = 1000)\n",
    "options(scipen = 999, digits = 5)\n",
    "options(repr.plot.width = 10, repr.plot.height = 8)\n",
    "\n",
    "\n",
    "# making sure results can be replicated\n",
    "set.seed(702)\n",
    "\n",
    "\n",
    "# specifying file name\n",
    "file <- '../data/Apprentice_Chef_Dataset.xlsx'\n",
    "\n",
    "\n",
    "# reading the file into R\n",
    "chef <- read_excel(file) %>%\n",
    "           select(-customer_id) #customer_id doesn't have any value\n",
    "\n",
    "\n",
    "\n",
    "# checking dataset features\n",
    "names(chef)"
   ]
  },
  {
   "cell_type": "code",
   "execution_count": 99,
   "metadata": {
    "colab": {
     "base_uri": "https://localhost:8080/",
     "height": 431
    },
    "id": "ocirOkmM6fxp",
    "outputId": "78eb7111-b3a1-4be6-9155-e4ac17ab146f"
   },
   "outputs": [
    {
     "data": {
      "text/html": [
       "<table class=\"dataframe\">\n",
       "<caption>A tibble: 10 × 26</caption>\n",
       "<thead>\n",
       "\t<tr><th scope=col>REVENUE</th><th scope=col>CROSS_SELL_SUCCESS</th><th scope=col>EMAIL_DOMAIN</th><th scope=col>TOTAL_MEALS_ORDERED</th><th scope=col>UNIQUE_MEALS_PURCH</th><th scope=col>CONTACTS_W_CUSTOMER_SERVICE</th><th scope=col>PRODUCT_CATEGORIES_VIEWED</th><th scope=col>AVG_TIME_PER_SITE_VISIT</th><th scope=col>MOBILE_NUMBER</th><th scope=col>CANCELLATIONS_BEFORE_NOON</th><th scope=col>⋯</th><th scope=col>LATE_DELIVERIES</th><th scope=col>PACKAGE_LOCKER</th><th scope=col>REFRIGERATED_LOCKER</th><th scope=col>FOLLOWED_RECOMMENDATIONS_PCT</th><th scope=col>AVG_PREP_VID_TIME</th><th scope=col>LARGEST_ORDER_SIZE</th><th scope=col>MASTER_CLASSES_ATTENDED</th><th scope=col>MEDIAN_MEAL_RATING</th><th scope=col>AVG_CLICKS_PER_VISIT</th><th scope=col>TOTAL_PHOTOS_VIEWED</th></tr>\n",
       "\t<tr><th scope=col>&lt;dbl&gt;</th><th scope=col>&lt;dbl&gt;</th><th scope=col>&lt;chr&gt;</th><th scope=col>&lt;dbl&gt;</th><th scope=col>&lt;dbl&gt;</th><th scope=col>&lt;dbl&gt;</th><th scope=col>&lt;dbl&gt;</th><th scope=col>&lt;dbl&gt;</th><th scope=col>&lt;dbl&gt;</th><th scope=col>&lt;dbl&gt;</th><th scope=col>⋯</th><th scope=col>&lt;dbl&gt;</th><th scope=col>&lt;dbl&gt;</th><th scope=col>&lt;dbl&gt;</th><th scope=col>&lt;dbl&gt;</th><th scope=col>&lt;dbl&gt;</th><th scope=col>&lt;dbl&gt;</th><th scope=col>&lt;dbl&gt;</th><th scope=col>&lt;dbl&gt;</th><th scope=col>&lt;dbl&gt;</th><th scope=col>&lt;dbl&gt;</th></tr>\n",
       "</thead>\n",
       "<tbody>\n",
       "\t<tr><td>1880.0</td><td>1</td><td>passport.com   </td><td>118</td><td>4</td><td> 7</td><td> 5</td><td> 86.00</td><td>1</td><td>2</td><td>⋯</td><td> 2</td><td>1</td><td>0</td><td>90</td><td>165.8</td><td>6</td><td>1</td><td>3</td><td>11</td><td>  0</td></tr>\n",
       "\t<tr><td>1495.0</td><td>1</td><td>jnj.com        </td><td> 44</td><td>3</td><td> 6</td><td> 3</td><td>125.60</td><td>1</td><td>0</td><td>⋯</td><td> 4</td><td>1</td><td>0</td><td>90</td><td>150.5</td><td>4</td><td>1</td><td>3</td><td>13</td><td> 90</td></tr>\n",
       "\t<tr><td>2572.5</td><td>1</td><td>gmail.com      </td><td> 38</td><td>1</td><td> 5</td><td> 3</td><td> 58.00</td><td>1</td><td>5</td><td>⋯</td><td> 0</td><td>0</td><td>0</td><td>80</td><td> 99.6</td><td>3</td><td>0</td><td>3</td><td>12</td><td>  0</td></tr>\n",
       "\t<tr><td>1647.0</td><td>1</td><td>ibm.com        </td><td> 76</td><td>3</td><td> 8</td><td>10</td><td> 45.51</td><td>0</td><td>3</td><td>⋯</td><td> 4</td><td>0</td><td>0</td><td>90</td><td>125.0</td><td>3</td><td>0</td><td>3</td><td>13</td><td>  0</td></tr>\n",
       "\t<tr><td>1923.0</td><td>1</td><td>goldmansacs.com</td><td> 65</td><td>3</td><td> 6</td><td> 9</td><td>106.00</td><td>1</td><td>1</td><td>⋯</td><td> 4</td><td>1</td><td>0</td><td>90</td><td>135.3</td><td>3</td><td>1</td><td>3</td><td>13</td><td>253</td></tr>\n",
       "\t<tr><td>1250.0</td><td>1</td><td>gmail.com      </td><td> 57</td><td>4</td><td> 6</td><td> 2</td><td> 84.21</td><td>1</td><td>0</td><td>⋯</td><td> 5</td><td>0</td><td>0</td><td>70</td><td> 91.2</td><td>3</td><td>1</td><td>2</td><td>17</td><td>  0</td></tr>\n",
       "\t<tr><td>4665.0</td><td>1</td><td>homedepot.com  </td><td>106</td><td>3</td><td>10</td><td> 8</td><td>110.00</td><td>1</td><td>3</td><td>⋯</td><td> 3</td><td>0</td><td>0</td><td>70</td><td>263.3</td><td>6</td><td>2</td><td>4</td><td>10</td><td>705</td></tr>\n",
       "\t<tr><td>1690.0</td><td>1</td><td>yahoo.com      </td><td>122</td><td>6</td><td> 8</td><td>10</td><td> 92.73</td><td>1</td><td>1</td><td>⋯</td><td> 3</td><td>0</td><td>0</td><td>70</td><td>160.0</td><td>5</td><td>1</td><td>3</td><td>13</td><td>  0</td></tr>\n",
       "\t<tr><td>1710.0</td><td>1</td><td>caterpillar.com</td><td> 46</td><td>4</td><td> 5</td><td>10</td><td>170.47</td><td>1</td><td>0</td><td>⋯</td><td>10</td><td>1</td><td>1</td><td>70</td><td>170.1</td><td>4</td><td>2</td><td>3</td><td>12</td><td>  0</td></tr>\n",
       "\t<tr><td>1770.0</td><td>1</td><td>protonmail.com </td><td> 58</td><td>4</td><td> 6</td><td> 5</td><td> 79.58</td><td>1</td><td>0</td><td>⋯</td><td> 7</td><td>1</td><td>1</td><td>90</td><td>191.3</td><td>7</td><td>1</td><td>3</td><td>12</td><td>  0</td></tr>\n",
       "</tbody>\n",
       "</table>\n"
      ],
      "text/latex": [
       "A tibble: 10 × 26\n",
       "\\begin{tabular}{lllllllllllllllllllll}\n",
       " REVENUE & CROSS\\_SELL\\_SUCCESS & EMAIL\\_DOMAIN & TOTAL\\_MEALS\\_ORDERED & UNIQUE\\_MEALS\\_PURCH & CONTACTS\\_W\\_CUSTOMER\\_SERVICE & PRODUCT\\_CATEGORIES\\_VIEWED & AVG\\_TIME\\_PER\\_SITE\\_VISIT & MOBILE\\_NUMBER & CANCELLATIONS\\_BEFORE\\_NOON & ⋯ & LATE\\_DELIVERIES & PACKAGE\\_LOCKER & REFRIGERATED\\_LOCKER & FOLLOWED\\_RECOMMENDATIONS\\_PCT & AVG\\_PREP\\_VID\\_TIME & LARGEST\\_ORDER\\_SIZE & MASTER\\_CLASSES\\_ATTENDED & MEDIAN\\_MEAL\\_RATING & AVG\\_CLICKS\\_PER\\_VISIT & TOTAL\\_PHOTOS\\_VIEWED\\\\\n",
       " <dbl> & <dbl> & <chr> & <dbl> & <dbl> & <dbl> & <dbl> & <dbl> & <dbl> & <dbl> & ⋯ & <dbl> & <dbl> & <dbl> & <dbl> & <dbl> & <dbl> & <dbl> & <dbl> & <dbl> & <dbl>\\\\\n",
       "\\hline\n",
       "\t 1880.0 & 1 & passport.com    & 118 & 4 &  7 &  5 &  86.00 & 1 & 2 & ⋯ &  2 & 1 & 0 & 90 & 165.8 & 6 & 1 & 3 & 11 &   0\\\\\n",
       "\t 1495.0 & 1 & jnj.com         &  44 & 3 &  6 &  3 & 125.60 & 1 & 0 & ⋯ &  4 & 1 & 0 & 90 & 150.5 & 4 & 1 & 3 & 13 &  90\\\\\n",
       "\t 2572.5 & 1 & gmail.com       &  38 & 1 &  5 &  3 &  58.00 & 1 & 5 & ⋯ &  0 & 0 & 0 & 80 &  99.6 & 3 & 0 & 3 & 12 &   0\\\\\n",
       "\t 1647.0 & 1 & ibm.com         &  76 & 3 &  8 & 10 &  45.51 & 0 & 3 & ⋯ &  4 & 0 & 0 & 90 & 125.0 & 3 & 0 & 3 & 13 &   0\\\\\n",
       "\t 1923.0 & 1 & goldmansacs.com &  65 & 3 &  6 &  9 & 106.00 & 1 & 1 & ⋯ &  4 & 1 & 0 & 90 & 135.3 & 3 & 1 & 3 & 13 & 253\\\\\n",
       "\t 1250.0 & 1 & gmail.com       &  57 & 4 &  6 &  2 &  84.21 & 1 & 0 & ⋯ &  5 & 0 & 0 & 70 &  91.2 & 3 & 1 & 2 & 17 &   0\\\\\n",
       "\t 4665.0 & 1 & homedepot.com   & 106 & 3 & 10 &  8 & 110.00 & 1 & 3 & ⋯ &  3 & 0 & 0 & 70 & 263.3 & 6 & 2 & 4 & 10 & 705\\\\\n",
       "\t 1690.0 & 1 & yahoo.com       & 122 & 6 &  8 & 10 &  92.73 & 1 & 1 & ⋯ &  3 & 0 & 0 & 70 & 160.0 & 5 & 1 & 3 & 13 &   0\\\\\n",
       "\t 1710.0 & 1 & caterpillar.com &  46 & 4 &  5 & 10 & 170.47 & 1 & 0 & ⋯ & 10 & 1 & 1 & 70 & 170.1 & 4 & 2 & 3 & 12 &   0\\\\\n",
       "\t 1770.0 & 1 & protonmail.com  &  58 & 4 &  6 &  5 &  79.58 & 1 & 0 & ⋯ &  7 & 1 & 1 & 90 & 191.3 & 7 & 1 & 3 & 12 &   0\\\\\n",
       "\\end{tabular}\n"
      ],
      "text/markdown": [
       "\n",
       "A tibble: 10 × 26\n",
       "\n",
       "| REVENUE &lt;dbl&gt; | CROSS_SELL_SUCCESS &lt;dbl&gt; | EMAIL_DOMAIN &lt;chr&gt; | TOTAL_MEALS_ORDERED &lt;dbl&gt; | UNIQUE_MEALS_PURCH &lt;dbl&gt; | CONTACTS_W_CUSTOMER_SERVICE &lt;dbl&gt; | PRODUCT_CATEGORIES_VIEWED &lt;dbl&gt; | AVG_TIME_PER_SITE_VISIT &lt;dbl&gt; | MOBILE_NUMBER &lt;dbl&gt; | CANCELLATIONS_BEFORE_NOON &lt;dbl&gt; | ⋯ ⋯ | LATE_DELIVERIES &lt;dbl&gt; | PACKAGE_LOCKER &lt;dbl&gt; | REFRIGERATED_LOCKER &lt;dbl&gt; | FOLLOWED_RECOMMENDATIONS_PCT &lt;dbl&gt; | AVG_PREP_VID_TIME &lt;dbl&gt; | LARGEST_ORDER_SIZE &lt;dbl&gt; | MASTER_CLASSES_ATTENDED &lt;dbl&gt; | MEDIAN_MEAL_RATING &lt;dbl&gt; | AVG_CLICKS_PER_VISIT &lt;dbl&gt; | TOTAL_PHOTOS_VIEWED &lt;dbl&gt; |\n",
       "|---|---|---|---|---|---|---|---|---|---|---|---|---|---|---|---|---|---|---|---|---|\n",
       "| 1880.0 | 1 | passport.com    | 118 | 4 |  7 |  5 |  86.00 | 1 | 2 | ⋯ |  2 | 1 | 0 | 90 | 165.8 | 6 | 1 | 3 | 11 |   0 |\n",
       "| 1495.0 | 1 | jnj.com         |  44 | 3 |  6 |  3 | 125.60 | 1 | 0 | ⋯ |  4 | 1 | 0 | 90 | 150.5 | 4 | 1 | 3 | 13 |  90 |\n",
       "| 2572.5 | 1 | gmail.com       |  38 | 1 |  5 |  3 |  58.00 | 1 | 5 | ⋯ |  0 | 0 | 0 | 80 |  99.6 | 3 | 0 | 3 | 12 |   0 |\n",
       "| 1647.0 | 1 | ibm.com         |  76 | 3 |  8 | 10 |  45.51 | 0 | 3 | ⋯ |  4 | 0 | 0 | 90 | 125.0 | 3 | 0 | 3 | 13 |   0 |\n",
       "| 1923.0 | 1 | goldmansacs.com |  65 | 3 |  6 |  9 | 106.00 | 1 | 1 | ⋯ |  4 | 1 | 0 | 90 | 135.3 | 3 | 1 | 3 | 13 | 253 |\n",
       "| 1250.0 | 1 | gmail.com       |  57 | 4 |  6 |  2 |  84.21 | 1 | 0 | ⋯ |  5 | 0 | 0 | 70 |  91.2 | 3 | 1 | 2 | 17 |   0 |\n",
       "| 4665.0 | 1 | homedepot.com   | 106 | 3 | 10 |  8 | 110.00 | 1 | 3 | ⋯ |  3 | 0 | 0 | 70 | 263.3 | 6 | 2 | 4 | 10 | 705 |\n",
       "| 1690.0 | 1 | yahoo.com       | 122 | 6 |  8 | 10 |  92.73 | 1 | 1 | ⋯ |  3 | 0 | 0 | 70 | 160.0 | 5 | 1 | 3 | 13 |   0 |\n",
       "| 1710.0 | 1 | caterpillar.com |  46 | 4 |  5 | 10 | 170.47 | 1 | 0 | ⋯ | 10 | 1 | 1 | 70 | 170.1 | 4 | 2 | 3 | 12 |   0 |\n",
       "| 1770.0 | 1 | protonmail.com  |  58 | 4 |  6 |  5 |  79.58 | 1 | 0 | ⋯ |  7 | 1 | 1 | 90 | 191.3 | 7 | 1 | 3 | 12 |   0 |\n",
       "\n"
      ],
      "text/plain": [
       "   REVENUE CROSS_SELL_SUCCESS EMAIL_DOMAIN    TOTAL_MEALS_ORDERED UNIQUE_MEALS_PURCH CONTACTS_W_CUSTOMER_SERVICE PRODUCT_CATEGORIES_VIEWED AVG_TIME_PER_SITE_VISIT MOBILE_NUMBER CANCELLATIONS_BEFORE_NOON ⋯ LATE_DELIVERIES PACKAGE_LOCKER REFRIGERATED_LOCKER FOLLOWED_RECOMMENDATIONS_PCT AVG_PREP_VID_TIME LARGEST_ORDER_SIZE MASTER_CLASSES_ATTENDED MEDIAN_MEAL_RATING AVG_CLICKS_PER_VISIT TOTAL_PHOTOS_VIEWED\n",
       "1  1880.0  1                  passport.com    118                 4                   7                           5                         86.00                  1             2                         ⋯  2              1              0                   90                           165.8             6                  1                       3                  11                     0                \n",
       "2  1495.0  1                  jnj.com          44                 3                   6                           3                        125.60                  1             0                         ⋯  4              1              0                   90                           150.5             4                  1                       3                  13                    90                \n",
       "3  2572.5  1                  gmail.com        38                 1                   5                           3                         58.00                  1             5                         ⋯  0              0              0                   80                            99.6             3                  0                       3                  12                     0                \n",
       "4  1647.0  1                  ibm.com          76                 3                   8                          10                         45.51                  0             3                         ⋯  4              0              0                   90                           125.0             3                  0                       3                  13                     0                \n",
       "5  1923.0  1                  goldmansacs.com  65                 3                   6                           9                        106.00                  1             1                         ⋯  4              1              0                   90                           135.3             3                  1                       3                  13                   253                \n",
       "6  1250.0  1                  gmail.com        57                 4                   6                           2                         84.21                  1             0                         ⋯  5              0              0                   70                            91.2             3                  1                       2                  17                     0                \n",
       "7  4665.0  1                  homedepot.com   106                 3                  10                           8                        110.00                  1             3                         ⋯  3              0              0                   70                           263.3             6                  2                       4                  10                   705                \n",
       "8  1690.0  1                  yahoo.com       122                 6                   8                          10                         92.73                  1             1                         ⋯  3              0              0                   70                           160.0             5                  1                       3                  13                     0                \n",
       "9  1710.0  1                  caterpillar.com  46                 4                   5                          10                        170.47                  1             0                         ⋯ 10              1              1                   70                           170.1             4                  2                       3                  12                     0                \n",
       "10 1770.0  1                  protonmail.com   58                 4                   6                           5                         79.58                  1             0                         ⋯  7              1              1                   90                           191.3             7                  1                       3                  12                     0                "
      ]
     },
     "metadata": {},
     "output_type": "display_data"
    }
   ],
   "source": [
    "# outputting the first ten rows of the dataset\n",
    "head(x = chef, n = 10)"
   ]
  },
  {
   "cell_type": "markdown",
   "metadata": {
    "id": "75oF8iM6O503"
   },
   "source": [
    "The dataset for the Halfway There promotion includes a variables related to customer behavior, their spending and interactions with the company. Key columns like total revenue and whether a customer subscribed to the promotion stand out. We also have data on customer service contacts, order habits, site engagement and personal preferences. The email domains give a peek into different customer types.\n",
    "\n",
    "For the analysis, I will look at how these features relate to whether customers subscribed. I will try to segment customers to see if certain groups are more likely to sign up. I will also try to  create new features to get better insights. This should help us to understand customer behavior better and boost the promotion’s success."
   ]
  },
  {
   "cell_type": "code",
   "execution_count": 127,
   "metadata": {
    "colab": {
     "base_uri": "https://localhost:8080/"
    },
    "id": "RJFTUgnz-LNT",
    "outputId": "9d75f3cd-0630-4983-f0ee-c91e8fcec413"
   },
   "outputs": [
    {
     "name": "stdout",
     "output_type": "stream",
     "text": [
      "tibble [1,946 × 29] (S3: tbl_df/tbl/data.frame)\n",
      " $ REVENUE                     : num [1:1946] 1880 1495 2572 1647 1923 ...\n",
      " $ CROSS_SELL_SUCCESS          : num [1:1946] 1 1 1 1 1 1 1 1 1 1 ...\n",
      " $ EMAIL_DOMAIN                : chr [1:1946] \"passport.com\" \"jnj.com\" \"gmail.com\" \"ibm.com\" ...\n",
      " $ TOTAL_MEALS_ORDERED         : num [1:1946] 118 44 38 76 65 57 106 122 46 58 ...\n",
      " $ UNIQUE_MEALS_PURCH          : num [1:1946] 4 3 1 3 3 4 3 6 4 4 ...\n",
      " $ CONTACTS_W_CUSTOMER_SERVICE : num [1:1946] 7 6 5 8 6 6 10 8 5 6 ...\n",
      " $ PRODUCT_CATEGORIES_VIEWED   : num [1:1946] 5 3 3 10 9 2 8 10 10 5 ...\n",
      " $ AVG_TIME_PER_SITE_VISIT     : num [1:1946] 86 125.6 58 45.5 106 ...\n",
      " $ MOBILE_NUMBER               : num [1:1946] 1 1 1 0 1 1 1 1 1 1 ...\n",
      " $ CANCELLATIONS_BEFORE_NOON   : num [1:1946] 2 0 5 3 1 0 3 1 0 0 ...\n",
      " $ CANCELLATIONS_AFTER_NOON    : num [1:1946] 1 1 0 0 1 0 0 0 0 1 ...\n",
      " $ TASTES_AND_PREFERENCES      : num [1:1946] 0 0 1 1 0 1 0 1 1 1 ...\n",
      " $ MOBILE_LOGINS               : num [1:1946] 6 6 6 6 6 5 6 5 6 6 ...\n",
      " $ PC_LOGINS                   : num [1:1946] 2 1 2 1 2 1 2 1 2 2 ...\n",
      " $ WEEKLY_PLAN                 : num [1:1946] 8 8 14 11 12 10 7 8 8 2 ...\n",
      " $ EARLY_DELIVERIES            : num [1:1946] 0 0 0 5 0 2 0 0 4 3 ...\n",
      " $ LATE_DELIVERIES             : num [1:1946] 2 4 0 4 4 5 3 3 10 7 ...\n",
      " $ PACKAGE_LOCKER              : num [1:1946] 1 1 0 0 1 0 0 0 1 1 ...\n",
      " $ REFRIGERATED_LOCKER         : num [1:1946] 0 0 0 0 0 0 0 0 1 1 ...\n",
      " $ FOLLOWED_RECOMMENDATIONS_PCT: num [1:1946] 90 90 80 90 90 70 70 70 70 90 ...\n",
      " $ AVG_PREP_VID_TIME           : num [1:1946] 165.8 150.5 99.6 125 135.3 ...\n",
      " $ LARGEST_ORDER_SIZE          : num [1:1946] 6 4 3 3 3 3 6 5 4 7 ...\n",
      " $ MASTER_CLASSES_ATTENDED     : num [1:1946] 1 1 0 0 1 1 2 1 2 1 ...\n",
      " $ MEDIAN_MEAL_RATING          : num [1:1946] 3 3 3 3 3 2 4 3 3 3 ...\n",
      " $ AVG_CLICKS_PER_VISIT        : num [1:1946] 11 13 12 13 13 17 10 13 12 12 ...\n",
      " $ TOTAL_PHOTOS_VIEWED         : num [1:1946] 0 90 0 0 253 0 705 0 0 0 ...\n",
      " $ HAS_RECOMMENDATION_PCT      : num [1:1946] 1 1 1 1 1 1 1 1 1 1 ...\n",
      " $ EMAIL_DOMAIN_GROUP          : chr [1:1946] \"junk\" \"professional\" \"personal\" \"professional\" ...\n",
      " $ LATE_DELIVERY_RATIO         : num [1:1946] 0.0169 0.0909 0 0.0526 0.0615 ...\n"
     ]
    }
   ],
   "source": [
    "str(chef)"
   ]
  },
  {
   "cell_type": "code",
   "execution_count": 130,
   "metadata": {
    "colab": {
     "base_uri": "https://localhost:8080/",
     "height": 159
    },
    "id": "EeKe5Xa-9ky6",
    "outputId": "d49cd08d-8bf1-46e5-9f06-2785ab7027ec"
   },
   "outputs": [
    {
     "ename": "ERROR",
     "evalue": "Error in cor(x = ., method = \"pearson\"): 'x' must be numeric\n",
     "output_type": "error",
     "traceback": [
      "Error in cor(x = ., method = \"pearson\"): 'x' must be numeric\nTraceback:\n",
      "1. chef %>% select(-CROSS_SELL_SUCCESS) %>% cor(x = ., method = \"pearson\") %>% \n .     round(x = ., digits = 2)",
      "2. cor(x = ., method = \"pearson\")",
      "3. stop(\"'x' must be numeric\")"
     ]
    }
   ],
   "source": [
    "# creating a correlation matrix\n",
    "chef_corr = chef %>%\n",
    "\n",
    "   select(-EMAIL_DOMAIN) %>%\n",
    "\n",
    "    # (linear) correlation matrix\n",
    "    cor(x      = .,\n",
    "        method = \"pearson\") %>%\n",
    "\n",
    "    # rounding to two decimal places\n",
    "    round(x = ., digits = 2)\n",
    "\n",
    "\n",
    "# making housing_corr interactive\n",
    "datatable(data    = chef_corr,\n",
    "          options = list(pageLength = ncol(chef_corr),\n",
    "                         autoWidth  = TRUE))"
   ]
  },
  {
   "cell_type": "markdown",
   "metadata": {
    "id": "DblRPf30-dqx"
   },
   "source": [
    "I got stuck here a bit on the correlation matrix. For some reason I either get error that x is not numeric or no result at ll. I've used str(chef) to see what are the data types and the only string is DOMAIN_NAME..and obviously as I play with the data code sometime the feature EMAIL_DOMAIN_GROUP gets created. Either way I'm unable to do the correlation which is important so I can see the correlation between CROSS_SELL_SUCCESS and other variables"
   ]
  },
  {
   "cell_type": "code",
   "execution_count": 101,
   "metadata": {
    "colab": {
     "base_uri": "https://localhost:8080/",
     "height": 69
    },
    "id": "Ta67ms3KR0G5",
    "outputId": "cca4cd8b-6af0-4cfa-fc78-f301b3ec26a1"
   },
   "outputs": [
    {
     "name": "stderr",
     "output_type": "stream",
     "text": [
      "Warning message:\n",
      "“Unknown or uninitialised column: `has_Recommendation_PCT`.”\n"
     ]
    },
    {
     "data": {
      "text/plain": [
       "< table of extent 0 >"
      ]
     },
     "metadata": {},
     "output_type": "display_data"
    }
   ],
   "source": [
    "# New feature to set a flag if there was a recommendation for the customer\n",
    "chef$HAS_RECOMMENDATION_PCT <- ifelse(chef$FOLLOWED_RECOMMENDATIONS_PCT > 0, 1, 0)\n",
    "\n",
    "# Vie the instances of 0 and 1\n",
    "table(chef$has_Recommendation_PCT)"
   ]
  },
  {
   "cell_type": "code",
   "execution_count": 102,
   "metadata": {
    "colab": {
     "base_uri": "https://localhost:8080/",
     "height": 306
    },
    "id": "gooBVdn0WtoN",
    "outputId": "c2f64d5f-291d-424e-801f-77bd9878a07a"
   },
   "outputs": [
    {
     "data": {
      "text/html": [
       "<table class=\"dataframe\">\n",
       "<caption>A tibble: 6 × 28</caption>\n",
       "<thead>\n",
       "\t<tr><th scope=col>REVENUE</th><th scope=col>CROSS_SELL_SUCCESS</th><th scope=col>EMAIL_DOMAIN</th><th scope=col>TOTAL_MEALS_ORDERED</th><th scope=col>UNIQUE_MEALS_PURCH</th><th scope=col>CONTACTS_W_CUSTOMER_SERVICE</th><th scope=col>PRODUCT_CATEGORIES_VIEWED</th><th scope=col>AVG_TIME_PER_SITE_VISIT</th><th scope=col>MOBILE_NUMBER</th><th scope=col>CANCELLATIONS_BEFORE_NOON</th><th scope=col>⋯</th><th scope=col>REFRIGERATED_LOCKER</th><th scope=col>FOLLOWED_RECOMMENDATIONS_PCT</th><th scope=col>AVG_PREP_VID_TIME</th><th scope=col>LARGEST_ORDER_SIZE</th><th scope=col>MASTER_CLASSES_ATTENDED</th><th scope=col>MEDIAN_MEAL_RATING</th><th scope=col>AVG_CLICKS_PER_VISIT</th><th scope=col>TOTAL_PHOTOS_VIEWED</th><th scope=col>HAS_RECOMMENDATION_PCT</th><th scope=col>EMAIL_DOMAIN_GROUP</th></tr>\n",
       "\t<tr><th scope=col>&lt;dbl&gt;</th><th scope=col>&lt;dbl&gt;</th><th scope=col>&lt;chr&gt;</th><th scope=col>&lt;dbl&gt;</th><th scope=col>&lt;dbl&gt;</th><th scope=col>&lt;dbl&gt;</th><th scope=col>&lt;dbl&gt;</th><th scope=col>&lt;dbl&gt;</th><th scope=col>&lt;dbl&gt;</th><th scope=col>&lt;dbl&gt;</th><th scope=col>⋯</th><th scope=col>&lt;dbl&gt;</th><th scope=col>&lt;dbl&gt;</th><th scope=col>&lt;dbl&gt;</th><th scope=col>&lt;dbl&gt;</th><th scope=col>&lt;dbl&gt;</th><th scope=col>&lt;dbl&gt;</th><th scope=col>&lt;dbl&gt;</th><th scope=col>&lt;dbl&gt;</th><th scope=col>&lt;dbl&gt;</th><th scope=col>&lt;chr&gt;</th></tr>\n",
       "</thead>\n",
       "<tbody>\n",
       "\t<tr><td>1880.0</td><td>1</td><td>passport.com   </td><td>118</td><td>4</td><td>7</td><td> 5</td><td> 86.00</td><td>1</td><td>2</td><td>⋯</td><td>0</td><td>90</td><td>165.8</td><td>6</td><td>1</td><td>3</td><td>11</td><td>  0</td><td>1</td><td>junk        </td></tr>\n",
       "\t<tr><td>1495.0</td><td>1</td><td>jnj.com        </td><td> 44</td><td>3</td><td>6</td><td> 3</td><td>125.60</td><td>1</td><td>0</td><td>⋯</td><td>0</td><td>90</td><td>150.5</td><td>4</td><td>1</td><td>3</td><td>13</td><td> 90</td><td>1</td><td>professional</td></tr>\n",
       "\t<tr><td>2572.5</td><td>1</td><td>gmail.com      </td><td> 38</td><td>1</td><td>5</td><td> 3</td><td> 58.00</td><td>1</td><td>5</td><td>⋯</td><td>0</td><td>80</td><td> 99.6</td><td>3</td><td>0</td><td>3</td><td>12</td><td>  0</td><td>1</td><td>personal    </td></tr>\n",
       "\t<tr><td>1647.0</td><td>1</td><td>ibm.com        </td><td> 76</td><td>3</td><td>8</td><td>10</td><td> 45.51</td><td>0</td><td>3</td><td>⋯</td><td>0</td><td>90</td><td>125.0</td><td>3</td><td>0</td><td>3</td><td>13</td><td>  0</td><td>1</td><td>professional</td></tr>\n",
       "\t<tr><td>1923.0</td><td>1</td><td>goldmansacs.com</td><td> 65</td><td>3</td><td>6</td><td> 9</td><td>106.00</td><td>1</td><td>1</td><td>⋯</td><td>0</td><td>90</td><td>135.3</td><td>3</td><td>1</td><td>3</td><td>13</td><td>253</td><td>1</td><td>professional</td></tr>\n",
       "\t<tr><td>1250.0</td><td>1</td><td>gmail.com      </td><td> 57</td><td>4</td><td>6</td><td> 2</td><td> 84.21</td><td>1</td><td>0</td><td>⋯</td><td>0</td><td>70</td><td> 91.2</td><td>3</td><td>1</td><td>2</td><td>17</td><td>  0</td><td>1</td><td>personal    </td></tr>\n",
       "</tbody>\n",
       "</table>\n"
      ],
      "text/latex": [
       "A tibble: 6 × 28\n",
       "\\begin{tabular}{lllllllllllllllllllll}\n",
       " REVENUE & CROSS\\_SELL\\_SUCCESS & EMAIL\\_DOMAIN & TOTAL\\_MEALS\\_ORDERED & UNIQUE\\_MEALS\\_PURCH & CONTACTS\\_W\\_CUSTOMER\\_SERVICE & PRODUCT\\_CATEGORIES\\_VIEWED & AVG\\_TIME\\_PER\\_SITE\\_VISIT & MOBILE\\_NUMBER & CANCELLATIONS\\_BEFORE\\_NOON & ⋯ & REFRIGERATED\\_LOCKER & FOLLOWED\\_RECOMMENDATIONS\\_PCT & AVG\\_PREP\\_VID\\_TIME & LARGEST\\_ORDER\\_SIZE & MASTER\\_CLASSES\\_ATTENDED & MEDIAN\\_MEAL\\_RATING & AVG\\_CLICKS\\_PER\\_VISIT & TOTAL\\_PHOTOS\\_VIEWED & HAS\\_RECOMMENDATION\\_PCT & EMAIL\\_DOMAIN\\_GROUP\\\\\n",
       " <dbl> & <dbl> & <chr> & <dbl> & <dbl> & <dbl> & <dbl> & <dbl> & <dbl> & <dbl> & ⋯ & <dbl> & <dbl> & <dbl> & <dbl> & <dbl> & <dbl> & <dbl> & <dbl> & <dbl> & <chr>\\\\\n",
       "\\hline\n",
       "\t 1880.0 & 1 & passport.com    & 118 & 4 & 7 &  5 &  86.00 & 1 & 2 & ⋯ & 0 & 90 & 165.8 & 6 & 1 & 3 & 11 &   0 & 1 & junk        \\\\\n",
       "\t 1495.0 & 1 & jnj.com         &  44 & 3 & 6 &  3 & 125.60 & 1 & 0 & ⋯ & 0 & 90 & 150.5 & 4 & 1 & 3 & 13 &  90 & 1 & professional\\\\\n",
       "\t 2572.5 & 1 & gmail.com       &  38 & 1 & 5 &  3 &  58.00 & 1 & 5 & ⋯ & 0 & 80 &  99.6 & 3 & 0 & 3 & 12 &   0 & 1 & personal    \\\\\n",
       "\t 1647.0 & 1 & ibm.com         &  76 & 3 & 8 & 10 &  45.51 & 0 & 3 & ⋯ & 0 & 90 & 125.0 & 3 & 0 & 3 & 13 &   0 & 1 & professional\\\\\n",
       "\t 1923.0 & 1 & goldmansacs.com &  65 & 3 & 6 &  9 & 106.00 & 1 & 1 & ⋯ & 0 & 90 & 135.3 & 3 & 1 & 3 & 13 & 253 & 1 & professional\\\\\n",
       "\t 1250.0 & 1 & gmail.com       &  57 & 4 & 6 &  2 &  84.21 & 1 & 0 & ⋯ & 0 & 70 &  91.2 & 3 & 1 & 2 & 17 &   0 & 1 & personal    \\\\\n",
       "\\end{tabular}\n"
      ],
      "text/markdown": [
       "\n",
       "A tibble: 6 × 28\n",
       "\n",
       "| REVENUE &lt;dbl&gt; | CROSS_SELL_SUCCESS &lt;dbl&gt; | EMAIL_DOMAIN &lt;chr&gt; | TOTAL_MEALS_ORDERED &lt;dbl&gt; | UNIQUE_MEALS_PURCH &lt;dbl&gt; | CONTACTS_W_CUSTOMER_SERVICE &lt;dbl&gt; | PRODUCT_CATEGORIES_VIEWED &lt;dbl&gt; | AVG_TIME_PER_SITE_VISIT &lt;dbl&gt; | MOBILE_NUMBER &lt;dbl&gt; | CANCELLATIONS_BEFORE_NOON &lt;dbl&gt; | ⋯ ⋯ | REFRIGERATED_LOCKER &lt;dbl&gt; | FOLLOWED_RECOMMENDATIONS_PCT &lt;dbl&gt; | AVG_PREP_VID_TIME &lt;dbl&gt; | LARGEST_ORDER_SIZE &lt;dbl&gt; | MASTER_CLASSES_ATTENDED &lt;dbl&gt; | MEDIAN_MEAL_RATING &lt;dbl&gt; | AVG_CLICKS_PER_VISIT &lt;dbl&gt; | TOTAL_PHOTOS_VIEWED &lt;dbl&gt; | HAS_RECOMMENDATION_PCT &lt;dbl&gt; | EMAIL_DOMAIN_GROUP &lt;chr&gt; |\n",
       "|---|---|---|---|---|---|---|---|---|---|---|---|---|---|---|---|---|---|---|---|---|\n",
       "| 1880.0 | 1 | passport.com    | 118 | 4 | 7 |  5 |  86.00 | 1 | 2 | ⋯ | 0 | 90 | 165.8 | 6 | 1 | 3 | 11 |   0 | 1 | junk         |\n",
       "| 1495.0 | 1 | jnj.com         |  44 | 3 | 6 |  3 | 125.60 | 1 | 0 | ⋯ | 0 | 90 | 150.5 | 4 | 1 | 3 | 13 |  90 | 1 | professional |\n",
       "| 2572.5 | 1 | gmail.com       |  38 | 1 | 5 |  3 |  58.00 | 1 | 5 | ⋯ | 0 | 80 |  99.6 | 3 | 0 | 3 | 12 |   0 | 1 | personal     |\n",
       "| 1647.0 | 1 | ibm.com         |  76 | 3 | 8 | 10 |  45.51 | 0 | 3 | ⋯ | 0 | 90 | 125.0 | 3 | 0 | 3 | 13 |   0 | 1 | professional |\n",
       "| 1923.0 | 1 | goldmansacs.com |  65 | 3 | 6 |  9 | 106.00 | 1 | 1 | ⋯ | 0 | 90 | 135.3 | 3 | 1 | 3 | 13 | 253 | 1 | professional |\n",
       "| 1250.0 | 1 | gmail.com       |  57 | 4 | 6 |  2 |  84.21 | 1 | 0 | ⋯ | 0 | 70 |  91.2 | 3 | 1 | 2 | 17 |   0 | 1 | personal     |\n",
       "\n"
      ],
      "text/plain": [
       "  REVENUE CROSS_SELL_SUCCESS EMAIL_DOMAIN    TOTAL_MEALS_ORDERED UNIQUE_MEALS_PURCH CONTACTS_W_CUSTOMER_SERVICE PRODUCT_CATEGORIES_VIEWED AVG_TIME_PER_SITE_VISIT MOBILE_NUMBER CANCELLATIONS_BEFORE_NOON ⋯ REFRIGERATED_LOCKER FOLLOWED_RECOMMENDATIONS_PCT AVG_PREP_VID_TIME LARGEST_ORDER_SIZE MASTER_CLASSES_ATTENDED MEDIAN_MEAL_RATING AVG_CLICKS_PER_VISIT TOTAL_PHOTOS_VIEWED HAS_RECOMMENDATION_PCT EMAIL_DOMAIN_GROUP\n",
       "1 1880.0  1                  passport.com    118                 4                  7                            5                         86.00                  1             2                         ⋯ 0                   90                           165.8             6                  1                       3                  11                     0                 1                      junk              \n",
       "2 1495.0  1                  jnj.com          44                 3                  6                            3                        125.60                  1             0                         ⋯ 0                   90                           150.5             4                  1                       3                  13                    90                 1                      professional      \n",
       "3 2572.5  1                  gmail.com        38                 1                  5                            3                         58.00                  1             5                         ⋯ 0                   80                            99.6             3                  0                       3                  12                     0                 1                      personal          \n",
       "4 1647.0  1                  ibm.com          76                 3                  8                           10                         45.51                  0             3                         ⋯ 0                   90                           125.0             3                  0                       3                  13                     0                 1                      professional      \n",
       "5 1923.0  1                  goldmansacs.com  65                 3                  6                            9                        106.00                  1             1                         ⋯ 0                   90                           135.3             3                  1                       3                  13                   253                 1                      professional      \n",
       "6 1250.0  1                  gmail.com        57                 4                  6                            2                         84.21                  1             0                         ⋯ 0                   70                            91.2             3                  1                       2                  17                     0                 1                      personal          "
      ]
     },
     "metadata": {},
     "output_type": "display_data"
    }
   ],
   "source": [
    "# New feature to segment the email / yes, same feature as in the previous assignment. It has to be useful somewhere :)\n",
    "\n",
    "# Define email domain groups\n",
    "PROFESSIONAL_DOMAINS <- c(\"mmm.com\", \"amex.com\", \"apple.com\", \"boeing.com\", \"caterpillar.com\", \"chevron.com\", \"cisco.com\", \"cocacola.com\", \"disney.com\", \"dupont.com\", \"exxon.com\", \"ge.org\", \"goldmansacs.com\", \"homedepot.com\", \"ibm.com\", \"intel.com\", \"jnj.com\", \"jpmorgan.com\", \"mcdonalds.com\", \"merck.com\", \"microsoft.com\", \"nike.com\", \"pfizer.com\", \"pg.com\", \"travelers.com\", \"unitedtech.com\", \"unitedhealth.com\", \"verizon.com\", \"visa.com\", \"walmart.com\")\n",
    "PERSONAL_DOMAINS <- c(\"gmail.com\", \"yahoo.com\", \"protonmail.com\")\n",
    "JUNK_DOMAINS <- c(\"me.com\", \"aol.com\", \"hotmail.com\", \"live.com\", \"msn.com\", \"passport.com\")\n",
    "\n",
    "######################REFERENCES#############################\n",
    "# OpenAI. (2024). ChatGPT (Jul 21 version) [Large language model]. https://chat.openai.com/chat\n",
    "\n",
    "#PROMT\n",
    "#you are R developer. I have a data set called 'chef' with column EMAIL_DOMAIN. I want to create a new features called 'EMAIL_DOMAIN_GROUP' and assign values based on the email domain. I've defined the groups as below. Please assign values in EMAIL_DOMAIN_GROUP based on the following rules\n",
    "#professional_domains -> professional\n",
    "#personal_domains -> person\n",
    "#junk_domains -> junk\n",
    "\n",
    "#PROFESSIONAL_DOMAINS <- c(\"mmm.com\", \"amex.com\", \"apple.com\", \"boeing.com\", \"caterpillar.com\", \"chevron.com\", \"cisco.com\", \"cocacola.com\", \"disney.com\", \"dupont.com\", \"exxon.com\", \"ge.org\", \"goldmansacs.com\", \"homedepot.com\", \"ibm.com\", \"intel.com\", \"jnj.com\", \"jpmorgan.com\", \"mcdonalds.com\", \"merck.com\", \"microsoft.com\", \"nike.com\", \"pfizer.com\", \"pg.com\", \"travelers.com\", \"unitedtech.com\", \"unitedhealth.com\", \"verizon.com\", \"visa.com\", \"walmart.com\")\n",
    "#PERSONAL_DOMAINS <- c(\"gmail.com\", \"yahoo.com\", \"protonmail.com\")\n",
    "#JUNK_DOMAINS <- c(\"me.com\", \"aol.com\", \"hotmail.com\", \"live.com\", \"msn.com\", \"passport.com\")\n",
    "\n",
    "\n",
    "#Please write the code to create the custom feature and assign values based on the domain groups ->\n",
    "###################\n",
    "\n",
    "\n",
    "\n",
    "# Create the EMAIL_DOMAIN_GROUP feature using mutate\n",
    "chef <- chef %>%\n",
    "  mutate(EMAIL_DOMAIN_GROUP = case_when(\n",
    "    EMAIL_DOMAIN %in% PROFESSIONAL_DOMAINS ~ \"professional\",\n",
    "    EMAIL_DOMAIN %in% PERSONAL_DOMAINS ~ \"personal\",\n",
    "    EMAIL_DOMAIN %in% JUNK_DOMAINS ~ \"junk\",\n",
    "    TRUE ~ \"other\"\n",
    "  ))\n",
    "\n",
    "# View the updated dataset\n",
    "head(chef)\n"
   ]
  },
  {
   "cell_type": "code",
   "execution_count": 103,
   "metadata": {
    "colab": {
     "base_uri": "https://localhost:8080/",
     "height": 306
    },
    "id": "O4V63hk6dejn",
    "outputId": "a5e0c55b-1975-4250-bcb1-de2f08840780"
   },
   "outputs": [
    {
     "data": {
      "text/html": [
       "<table class=\"dataframe\">\n",
       "<caption>A tibble: 6 × 29</caption>\n",
       "<thead>\n",
       "\t<tr><th scope=col>REVENUE</th><th scope=col>CROSS_SELL_SUCCESS</th><th scope=col>EMAIL_DOMAIN</th><th scope=col>TOTAL_MEALS_ORDERED</th><th scope=col>UNIQUE_MEALS_PURCH</th><th scope=col>CONTACTS_W_CUSTOMER_SERVICE</th><th scope=col>PRODUCT_CATEGORIES_VIEWED</th><th scope=col>AVG_TIME_PER_SITE_VISIT</th><th scope=col>MOBILE_NUMBER</th><th scope=col>CANCELLATIONS_BEFORE_NOON</th><th scope=col>⋯</th><th scope=col>FOLLOWED_RECOMMENDATIONS_PCT</th><th scope=col>AVG_PREP_VID_TIME</th><th scope=col>LARGEST_ORDER_SIZE</th><th scope=col>MASTER_CLASSES_ATTENDED</th><th scope=col>MEDIAN_MEAL_RATING</th><th scope=col>AVG_CLICKS_PER_VISIT</th><th scope=col>TOTAL_PHOTOS_VIEWED</th><th scope=col>HAS_RECOMMENDATION_PCT</th><th scope=col>EMAIL_DOMAIN_GROUP</th><th scope=col>LATE_DELIVERY_RATIO</th></tr>\n",
       "\t<tr><th scope=col>&lt;dbl&gt;</th><th scope=col>&lt;dbl&gt;</th><th scope=col>&lt;chr&gt;</th><th scope=col>&lt;dbl&gt;</th><th scope=col>&lt;dbl&gt;</th><th scope=col>&lt;dbl&gt;</th><th scope=col>&lt;dbl&gt;</th><th scope=col>&lt;dbl&gt;</th><th scope=col>&lt;dbl&gt;</th><th scope=col>&lt;dbl&gt;</th><th scope=col>⋯</th><th scope=col>&lt;dbl&gt;</th><th scope=col>&lt;dbl&gt;</th><th scope=col>&lt;dbl&gt;</th><th scope=col>&lt;dbl&gt;</th><th scope=col>&lt;dbl&gt;</th><th scope=col>&lt;dbl&gt;</th><th scope=col>&lt;dbl&gt;</th><th scope=col>&lt;dbl&gt;</th><th scope=col>&lt;chr&gt;</th><th scope=col>&lt;dbl&gt;</th></tr>\n",
       "</thead>\n",
       "<tbody>\n",
       "\t<tr><td>1880.0</td><td>1</td><td>passport.com   </td><td>118</td><td>4</td><td>7</td><td> 5</td><td> 86.00</td><td>1</td><td>2</td><td>⋯</td><td>90</td><td>165.8</td><td>6</td><td>1</td><td>3</td><td>11</td><td>  0</td><td>1</td><td>junk        </td><td>0.016949</td></tr>\n",
       "\t<tr><td>1495.0</td><td>1</td><td>jnj.com        </td><td> 44</td><td>3</td><td>6</td><td> 3</td><td>125.60</td><td>1</td><td>0</td><td>⋯</td><td>90</td><td>150.5</td><td>4</td><td>1</td><td>3</td><td>13</td><td> 90</td><td>1</td><td>professional</td><td>0.090909</td></tr>\n",
       "\t<tr><td>2572.5</td><td>1</td><td>gmail.com      </td><td> 38</td><td>1</td><td>5</td><td> 3</td><td> 58.00</td><td>1</td><td>5</td><td>⋯</td><td>80</td><td> 99.6</td><td>3</td><td>0</td><td>3</td><td>12</td><td>  0</td><td>1</td><td>personal    </td><td>0.000000</td></tr>\n",
       "\t<tr><td>1647.0</td><td>1</td><td>ibm.com        </td><td> 76</td><td>3</td><td>8</td><td>10</td><td> 45.51</td><td>0</td><td>3</td><td>⋯</td><td>90</td><td>125.0</td><td>3</td><td>0</td><td>3</td><td>13</td><td>  0</td><td>1</td><td>professional</td><td>0.052632</td></tr>\n",
       "\t<tr><td>1923.0</td><td>1</td><td>goldmansacs.com</td><td> 65</td><td>3</td><td>6</td><td> 9</td><td>106.00</td><td>1</td><td>1</td><td>⋯</td><td>90</td><td>135.3</td><td>3</td><td>1</td><td>3</td><td>13</td><td>253</td><td>1</td><td>professional</td><td>0.061538</td></tr>\n",
       "\t<tr><td>1250.0</td><td>1</td><td>gmail.com      </td><td> 57</td><td>4</td><td>6</td><td> 2</td><td> 84.21</td><td>1</td><td>0</td><td>⋯</td><td>70</td><td> 91.2</td><td>3</td><td>1</td><td>2</td><td>17</td><td>  0</td><td>1</td><td>personal    </td><td>0.087719</td></tr>\n",
       "</tbody>\n",
       "</table>\n"
      ],
      "text/latex": [
       "A tibble: 6 × 29\n",
       "\\begin{tabular}{lllllllllllllllllllll}\n",
       " REVENUE & CROSS\\_SELL\\_SUCCESS & EMAIL\\_DOMAIN & TOTAL\\_MEALS\\_ORDERED & UNIQUE\\_MEALS\\_PURCH & CONTACTS\\_W\\_CUSTOMER\\_SERVICE & PRODUCT\\_CATEGORIES\\_VIEWED & AVG\\_TIME\\_PER\\_SITE\\_VISIT & MOBILE\\_NUMBER & CANCELLATIONS\\_BEFORE\\_NOON & ⋯ & FOLLOWED\\_RECOMMENDATIONS\\_PCT & AVG\\_PREP\\_VID\\_TIME & LARGEST\\_ORDER\\_SIZE & MASTER\\_CLASSES\\_ATTENDED & MEDIAN\\_MEAL\\_RATING & AVG\\_CLICKS\\_PER\\_VISIT & TOTAL\\_PHOTOS\\_VIEWED & HAS\\_RECOMMENDATION\\_PCT & EMAIL\\_DOMAIN\\_GROUP & LATE\\_DELIVERY\\_RATIO\\\\\n",
       " <dbl> & <dbl> & <chr> & <dbl> & <dbl> & <dbl> & <dbl> & <dbl> & <dbl> & <dbl> & ⋯ & <dbl> & <dbl> & <dbl> & <dbl> & <dbl> & <dbl> & <dbl> & <dbl> & <chr> & <dbl>\\\\\n",
       "\\hline\n",
       "\t 1880.0 & 1 & passport.com    & 118 & 4 & 7 &  5 &  86.00 & 1 & 2 & ⋯ & 90 & 165.8 & 6 & 1 & 3 & 11 &   0 & 1 & junk         & 0.016949\\\\\n",
       "\t 1495.0 & 1 & jnj.com         &  44 & 3 & 6 &  3 & 125.60 & 1 & 0 & ⋯ & 90 & 150.5 & 4 & 1 & 3 & 13 &  90 & 1 & professional & 0.090909\\\\\n",
       "\t 2572.5 & 1 & gmail.com       &  38 & 1 & 5 &  3 &  58.00 & 1 & 5 & ⋯ & 80 &  99.6 & 3 & 0 & 3 & 12 &   0 & 1 & personal     & 0.000000\\\\\n",
       "\t 1647.0 & 1 & ibm.com         &  76 & 3 & 8 & 10 &  45.51 & 0 & 3 & ⋯ & 90 & 125.0 & 3 & 0 & 3 & 13 &   0 & 1 & professional & 0.052632\\\\\n",
       "\t 1923.0 & 1 & goldmansacs.com &  65 & 3 & 6 &  9 & 106.00 & 1 & 1 & ⋯ & 90 & 135.3 & 3 & 1 & 3 & 13 & 253 & 1 & professional & 0.061538\\\\\n",
       "\t 1250.0 & 1 & gmail.com       &  57 & 4 & 6 &  2 &  84.21 & 1 & 0 & ⋯ & 70 &  91.2 & 3 & 1 & 2 & 17 &   0 & 1 & personal     & 0.087719\\\\\n",
       "\\end{tabular}\n"
      ],
      "text/markdown": [
       "\n",
       "A tibble: 6 × 29\n",
       "\n",
       "| REVENUE &lt;dbl&gt; | CROSS_SELL_SUCCESS &lt;dbl&gt; | EMAIL_DOMAIN &lt;chr&gt; | TOTAL_MEALS_ORDERED &lt;dbl&gt; | UNIQUE_MEALS_PURCH &lt;dbl&gt; | CONTACTS_W_CUSTOMER_SERVICE &lt;dbl&gt; | PRODUCT_CATEGORIES_VIEWED &lt;dbl&gt; | AVG_TIME_PER_SITE_VISIT &lt;dbl&gt; | MOBILE_NUMBER &lt;dbl&gt; | CANCELLATIONS_BEFORE_NOON &lt;dbl&gt; | ⋯ ⋯ | FOLLOWED_RECOMMENDATIONS_PCT &lt;dbl&gt; | AVG_PREP_VID_TIME &lt;dbl&gt; | LARGEST_ORDER_SIZE &lt;dbl&gt; | MASTER_CLASSES_ATTENDED &lt;dbl&gt; | MEDIAN_MEAL_RATING &lt;dbl&gt; | AVG_CLICKS_PER_VISIT &lt;dbl&gt; | TOTAL_PHOTOS_VIEWED &lt;dbl&gt; | HAS_RECOMMENDATION_PCT &lt;dbl&gt; | EMAIL_DOMAIN_GROUP &lt;chr&gt; | LATE_DELIVERY_RATIO &lt;dbl&gt; |\n",
       "|---|---|---|---|---|---|---|---|---|---|---|---|---|---|---|---|---|---|---|---|---|\n",
       "| 1880.0 | 1 | passport.com    | 118 | 4 | 7 |  5 |  86.00 | 1 | 2 | ⋯ | 90 | 165.8 | 6 | 1 | 3 | 11 |   0 | 1 | junk         | 0.016949 |\n",
       "| 1495.0 | 1 | jnj.com         |  44 | 3 | 6 |  3 | 125.60 | 1 | 0 | ⋯ | 90 | 150.5 | 4 | 1 | 3 | 13 |  90 | 1 | professional | 0.090909 |\n",
       "| 2572.5 | 1 | gmail.com       |  38 | 1 | 5 |  3 |  58.00 | 1 | 5 | ⋯ | 80 |  99.6 | 3 | 0 | 3 | 12 |   0 | 1 | personal     | 0.000000 |\n",
       "| 1647.0 | 1 | ibm.com         |  76 | 3 | 8 | 10 |  45.51 | 0 | 3 | ⋯ | 90 | 125.0 | 3 | 0 | 3 | 13 |   0 | 1 | professional | 0.052632 |\n",
       "| 1923.0 | 1 | goldmansacs.com |  65 | 3 | 6 |  9 | 106.00 | 1 | 1 | ⋯ | 90 | 135.3 | 3 | 1 | 3 | 13 | 253 | 1 | professional | 0.061538 |\n",
       "| 1250.0 | 1 | gmail.com       |  57 | 4 | 6 |  2 |  84.21 | 1 | 0 | ⋯ | 70 |  91.2 | 3 | 1 | 2 | 17 |   0 | 1 | personal     | 0.087719 |\n",
       "\n"
      ],
      "text/plain": [
       "  REVENUE CROSS_SELL_SUCCESS EMAIL_DOMAIN    TOTAL_MEALS_ORDERED UNIQUE_MEALS_PURCH CONTACTS_W_CUSTOMER_SERVICE PRODUCT_CATEGORIES_VIEWED AVG_TIME_PER_SITE_VISIT MOBILE_NUMBER CANCELLATIONS_BEFORE_NOON ⋯ FOLLOWED_RECOMMENDATIONS_PCT AVG_PREP_VID_TIME LARGEST_ORDER_SIZE MASTER_CLASSES_ATTENDED MEDIAN_MEAL_RATING AVG_CLICKS_PER_VISIT TOTAL_PHOTOS_VIEWED HAS_RECOMMENDATION_PCT EMAIL_DOMAIN_GROUP LATE_DELIVERY_RATIO\n",
       "1 1880.0  1                  passport.com    118                 4                  7                            5                         86.00                  1             2                         ⋯ 90                           165.8             6                  1                       3                  11                     0                 1                      junk               0.016949           \n",
       "2 1495.0  1                  jnj.com          44                 3                  6                            3                        125.60                  1             0                         ⋯ 90                           150.5             4                  1                       3                  13                    90                 1                      professional       0.090909           \n",
       "3 2572.5  1                  gmail.com        38                 1                  5                            3                         58.00                  1             5                         ⋯ 80                            99.6             3                  0                       3                  12                     0                 1                      personal           0.000000           \n",
       "4 1647.0  1                  ibm.com          76                 3                  8                           10                         45.51                  0             3                         ⋯ 90                           125.0             3                  0                       3                  13                     0                 1                      professional       0.052632           \n",
       "5 1923.0  1                  goldmansacs.com  65                 3                  6                            9                        106.00                  1             1                         ⋯ 90                           135.3             3                  1                       3                  13                   253                 1                      professional       0.061538           \n",
       "6 1250.0  1                  gmail.com        57                 4                  6                            2                         84.21                  1             0                         ⋯ 70                            91.2             3                  1                       2                  17                     0                 1                      personal           0.087719           "
      ]
     },
     "metadata": {},
     "output_type": "display_data"
    }
   ],
   "source": [
    "# New feature to calculate late delivery ratio, I think it would make more sense to do it for order but don't have the order number per customer\n",
    "chef$LATE_DELIVERY_RATIO <- chef$LATE_DELIVERIES / chef$TOTAL_MEALS_ORDERED\n",
    "\n",
    "# View the updated dataset\n",
    "head(chef)"
   ]
  },
  {
   "cell_type": "code",
   "execution_count": 104,
   "metadata": {
    "id": "7_7ZOYXLp0Jq"
   },
   "outputs": [],
   "source": [
    "## setting up models ##\n",
    "\n",
    "# all x-features\n",
    "x_all      <- chef %>%\n",
    "\n",
    "    # excluding y-variable\n",
    "    select(-CROSS_SELL_SUCCESS)\n",
    "\n",
    "\n",
    "# original x-features\n",
    "x_original <- chef %>%\n",
    "\n",
    "    # all original features\n",
    "    select(REVENUE : TOTAL_PHOTOS_VIEWED)"
   ]
  },
  {
   "cell_type": "code",
   "execution_count": 105,
   "metadata": {
    "id": "nbpPe1nh4cbk"
   },
   "outputs": [],
   "source": [
    "# choosing x-features\n",
    "x_data <- x_all"
   ]
  },
  {
   "cell_type": "code",
   "execution_count": 106,
   "metadata": {
    "id": "cy2Gf5GT4gRB"
   },
   "outputs": [],
   "source": [
    "# setting up standardization\n",
    "scaler <- preProcess(x      = x_data,\n",
    "                     method = c(\"scale\", \"center\")) # scaling and centering\n",
    "\n",
    "\n",
    "# applying standardization\n",
    "x_scaled <- predict(object  = scaler,\n",
    "                    newdata = x_data)"
   ]
  },
  {
   "cell_type": "code",
   "execution_count": 107,
   "metadata": {
    "id": "h6TsDB5S4mNR"
   },
   "outputs": [],
   "source": [
    "# choosing and attaching y-variable\n",
    "model_data <- cbind(x_scaled,\n",
    "                    Y = chef$CROSS_SELL_SUCCESS) # selecting y-variable"
   ]
  },
  {
   "cell_type": "code",
   "execution_count": 108,
   "metadata": {
    "id": "zHzNHnhQ5a4k"
   },
   "outputs": [],
   "source": [
    "# creating a train-test split\n",
    "train_index <- createDataPartition(y = model_data$Y, # y-variable\n",
    "                                   p    = 0.75,      # training set proportion\n",
    "                                   list = FALSE)     # returning a DataFrame\n",
    "\n",
    "\n",
    "# creating training and testing sets\n",
    "train_data <- model_data[ train_index, ]\n",
    "test_data  <- model_data[-train_index, ]"
   ]
  },
  {
   "cell_type": "markdown",
   "metadata": {
    "id": "3Xccpb8x55aY"
   },
   "source": [
    "**CART Model**"
   ]
  },
  {
   "cell_type": "code",
   "execution_count": 109,
   "metadata": {
    "colab": {
     "base_uri": "https://localhost:8080/"
    },
    "id": "l-xvqBa350DU",
    "outputId": "f8559d0b-3cb7-40a4-bba8-f6d7b2256c0f"
   },
   "outputs": [
    {
     "name": "stdout",
     "output_type": "stream",
     "text": [
      "Call:\n",
      "rpart(formula = Y ~ ., data = train_data, method = \"class\")\n",
      "  n= 1460 \n",
      "\n",
      "        CP nsplit rel error  xerror     xstd\n",
      "1 0.160600      0   1.00000 1.00000 0.038163\n",
      "2 0.119914      1   0.83940 0.87366 0.036715\n",
      "3 0.067452      2   0.71949 0.79443 0.035621\n",
      "4 0.023555      4   0.58458 0.64668 0.033141\n",
      "5 0.012848      5   0.56103 0.67238 0.033617\n",
      "6 0.010707      7   0.53533 0.67024 0.033578\n",
      "7 0.010000      8   0.52463 0.67238 0.033617\n",
      "\n",
      "Variable importance\n",
      "FOLLOWED_RECOMMENDATIONS_PCT                 EMAIL_DOMAIN           EMAIL_DOMAIN_GROUP    CANCELLATIONS_BEFORE_NOON       HAS_RECOMMENDATION_PCT          LATE_DELIVERY_RATIO          TOTAL_MEALS_ORDERED            AVG_PREP_VID_TIME           MEDIAN_MEAL_RATING \n",
      "                          62                           18                            8                            4                            3                            2                            1                            1                            1 \n",
      "\n",
      "Node number 1: 1460 observations,    complexity param=0.1606\n",
      "  predicted class=1  expected loss=0.31986  P(node) =1\n",
      "    class counts:   467   993\n",
      "   probabilities: 0.320 0.680 \n",
      "  left son=2 (859 obs) right son=3 (601 obs)\n",
      "  Primary splits:\n",
      "      FOLLOWED_RECOMMENDATIONS_PCT < -0.015468 to the left,  improve=209.0200, (0 missing)\n",
      "      EMAIL_DOMAIN                 splits as  RLRRRRRRRRRRRRRLRRRRLRLRRRLRLRRRRRRRRRR, improve= 49.4890, (0 missing)\n",
      "      EMAIL_DOMAIN_GROUP           splits as  LRR, improve= 49.4890, (0 missing)\n",
      "      CANCELLATIONS_BEFORE_NOON    < 0.061346  to the left,  improve= 22.1000, (0 missing)\n",
      "      TASTES_AND_PREFERENCES       < -0.47422  to the left,  improve=  7.1296, (0 missing)\n",
      "  Surrogate splits:\n",
      "      EMAIL_DOMAIN              splits as  RLLRRRRLLLLLLLRLLLLRLRLRLLLRLLRLLLLRLRL, agree=0.612, adj=0.057, (0 split)\n",
      "      MEDIAN_MEAL_RATING        < 2.2538    to the left,  agree=0.591, adj=0.007, (0 split)\n",
      "      LATE_DELIVERY_RATIO       < 5.2086    to the left,  agree=0.591, adj=0.007, (0 split)\n",
      "      CANCELLATIONS_BEFORE_NOON < 0.70664   to the left,  agree=0.590, adj=0.003, (0 split)\n",
      "      AVG_PREP_VID_TIME         < 2.1193    to the left,  agree=0.590, adj=0.003, (0 split)\n",
      "\n",
      "Node number 2: 859 observations,    complexity param=0.11991\n",
      "  predicted class=0  expected loss=0.45634  P(node) =0.58836\n",
      "    class counts:   467   392\n",
      "   probabilities: 0.544 0.456 \n",
      "  left son=4 (263 obs) right son=5 (596 obs)\n",
      "  Primary splits:\n",
      "      EMAIL_DOMAIN                 splits as  RLRRRRRRLRLRRRLLRRRRLRLRRRLRLRRRLRRRRRR, improve=31.982, (0 missing)\n",
      "      EMAIL_DOMAIN_GROUP           splits as  LRR, improve=29.182, (0 missing)\n",
      "      CANCELLATIONS_BEFORE_NOON    < 0.061346  to the left,  improve=20.287, (0 missing)\n",
      "      FOLLOWED_RECOMMENDATIONS_PCT < -1.1442   to the right, improve=18.381, (0 missing)\n",
      "      HAS_RECOMMENDATION_PCT       < -1.5521   to the right, improve=18.381, (0 missing)\n",
      "  Surrogate splits:\n",
      "      EMAIL_DOMAIN_GROUP          splits as  LRR, agree=0.960, adj=0.871, (0 split)\n",
      "      AVG_PREP_VID_TIME           < -1.5917   to the left,  agree=0.700, adj=0.019, (0 split)\n",
      "      CONTACTS_W_CUSTOMER_SERVICE < -1.9654   to the left,  agree=0.695, adj=0.004, (0 split)\n",
      "      CANCELLATIONS_BEFORE_NOON   < 4.5784    to the right, agree=0.695, adj=0.004, (0 split)\n",
      "      LARGEST_ORDER_SIZE          < -1.8935   to the left,  agree=0.695, adj=0.004, (0 split)\n",
      "\n",
      "Node number 3: 601 observations\n",
      "  predicted class=1  expected loss=0  P(node) =0.41164\n",
      "    class counts:     0   601\n",
      "   probabilities: 0.000 1.000 \n",
      "\n",
      "Node number 4: 263 observations,    complexity param=0.012848\n",
      "  predicted class=0  expected loss=0.25095  P(node) =0.18014\n",
      "    class counts:   197    66\n",
      "   probabilities: 0.749 0.251 \n",
      "  left son=8 (247 obs) right son=9 (16 obs)\n",
      "  Primary splits:\n",
      "      FOLLOWED_RECOMMENDATIONS_PCT < -1.1442   to the right, improve=6.4935, (0 missing)\n",
      "      HAS_RECOMMENDATION_PCT       < -1.5521   to the right, improve=6.4935, (0 missing)\n",
      "      CANCELLATIONS_BEFORE_NOON    < 0.061346  to the left,  improve=4.0645, (0 missing)\n",
      "      PC_LOGINS                    < 0.044803  to the right, improve=3.9373, (0 missing)\n",
      "      AVG_TIME_PER_SITE_VISIT      < -0.079636 to the left,  improve=3.1246, (0 missing)\n",
      "  Surrogate splits:\n",
      "      HAS_RECOMMENDATION_PCT < -1.5521   to the right, agree=1, adj=1, (0 split)\n",
      "\n",
      "Node number 5: 596 observations,    complexity param=0.067452\n",
      "  predicted class=1  expected loss=0.45302  P(node) =0.40822\n",
      "    class counts:   270   326\n",
      "   probabilities: 0.453 0.547 \n",
      "  left son=10 (390 obs) right son=11 (206 obs)\n",
      "  Primary splits:\n",
      "      CANCELLATIONS_BEFORE_NOON    < 0.061346  to the left,  improve=14.5560, (0 missing)\n",
      "      EMAIL_DOMAIN                 splits as  R-RRLLLL-L-LLR--LRLR-L-RRL-L-RRL-LRLLLL, improve=12.9630, (0 missing)\n",
      "      FOLLOWED_RECOMMENDATIONS_PCT < -1.1442   to the right, improve= 7.3219, (0 missing)\n",
      "      HAS_RECOMMENDATION_PCT       < -1.5521   to the right, improve= 7.3219, (0 missing)\n",
      "      EMAIL_DOMAIN_GROUP           splits as  -LR, improve= 5.0185, (0 missing)\n",
      "  Surrogate splits:\n",
      "      EMAIL_DOMAIN        splits as  L-RLLRLL-R-LLL--LLLL-R-LLR-L-RLL-LLLLLL, agree=0.674, adj=0.058, (0 split)\n",
      "      EARLY_DELIVERIES    < 1.7312    to the left,  agree=0.664, adj=0.029, (0 split)\n",
      "      TOTAL_MEALS_ORDERED < 4.9063    to the left,  agree=0.659, adj=0.015, (0 split)\n",
      "      MOBILE_LOGINS       < 1.6945    to the left,  agree=0.658, adj=0.010, (0 split)\n",
      "      AVG_PREP_VID_TIME   < -1.7586   to the right, agree=0.658, adj=0.010, (0 split)\n",
      "\n",
      "Node number 8: 247 observations\n",
      "  predicted class=0  expected loss=0.22267  P(node) =0.16918\n",
      "    class counts:   192    55\n",
      "   probabilities: 0.777 0.223 \n",
      "\n",
      "Node number 9: 16 observations\n",
      "  predicted class=1  expected loss=0.3125  P(node) =0.010959\n",
      "    class counts:     5    11\n",
      "   probabilities: 0.312 0.688 \n",
      "\n",
      "Node number 10: 390 observations,    complexity param=0.067452\n",
      "  predicted class=0  expected loss=0.46667  P(node) =0.26712\n",
      "    class counts:   208   182\n",
      "   probabilities: 0.533 0.467 \n",
      "  left son=20 (337 obs) right son=21 (53 obs)\n",
      "  Primary splits:\n",
      "      EMAIL_DOMAIN                 splits as  L-LLLRLL-L-LLL--LRLR-L-RRR-L-RRL-LRLRLL, improve=17.9370, (0 missing)\n",
      "      FOLLOWED_RECOMMENDATIONS_PCT < -1.1442   to the right, improve= 7.2506, (0 missing)\n",
      "      HAS_RECOMMENDATION_PCT       < -1.5521   to the right, improve= 7.2506, (0 missing)\n",
      "      EMAIL_DOMAIN_GROUP           splits as  -LR, improve= 6.2446, (0 missing)\n",
      "      TASTES_AND_PREFERENCES       < -0.47422  to the left,  improve= 4.0404, (0 missing)\n",
      "\n",
      "Node number 11: 206 observations\n",
      "  predicted class=1  expected loss=0.30097  P(node) =0.1411\n",
      "    class counts:    62   144\n",
      "   probabilities: 0.301 0.699 \n",
      "\n",
      "Node number 20: 337 observations,    complexity param=0.023555\n",
      "  predicted class=0  expected loss=0.40653  P(node) =0.23082\n",
      "    class counts:   200   137\n",
      "   probabilities: 0.593 0.407 \n",
      "  left son=40 (284 obs) right son=41 (53 obs)\n",
      "  Primary splits:\n",
      "      FOLLOWED_RECOMMENDATIONS_PCT < -1.1442   to the right, improve=4.8936, (0 missing)\n",
      "      HAS_RECOMMENDATION_PCT       < -1.5521   to the right, improve=4.8936, (0 missing)\n",
      "      LATE_DELIVERY_RATIO          < 2.7263    to the left,  improve=4.3030, (0 missing)\n",
      "      TASTES_AND_PREFERENCES       < -0.47422  to the left,  improve=3.8617, (0 missing)\n",
      "      AVG_TIME_PER_SITE_VISIT      < 0.2176    to the left,  improve=3.6873, (0 missing)\n",
      "  Surrogate splits:\n",
      "      HAS_RECOMMENDATION_PCT < -1.5521   to the right, agree=1, adj=1, (0 split)\n",
      "\n",
      "Node number 21: 53 observations\n",
      "  predicted class=1  expected loss=0.15094  P(node) =0.036301\n",
      "    class counts:     8    45\n",
      "   probabilities: 0.151 0.849 \n",
      "\n",
      "Node number 40: 284 observations,    complexity param=0.012848\n",
      "  predicted class=0  expected loss=0.36972  P(node) =0.19452\n",
      "    class counts:   179   105\n",
      "   probabilities: 0.630 0.370 \n",
      "  left son=80 (276 obs) right son=81 (8 obs)\n",
      "  Primary splits:\n",
      "      LATE_DELIVERY_RATIO     < 2.7263    to the left,  improve=4.2034, (0 missing)\n",
      "      AVG_TIME_PER_SITE_VISIT < 0.2176    to the left,  improve=3.8842, (0 missing)\n",
      "      EMAIL_DOMAIN            splits as  R-LRR-LR-L-RRR--R-R--L-----L---L-R-R-RL, improve=2.8013, (0 missing)\n",
      "      TASTES_AND_PREFERENCES  < -0.47422  to the left,  improve=2.7983, (0 missing)\n",
      "      AVG_PREP_VID_TIME       < 2.0819    to the left,  improve=2.2096, (0 missing)\n",
      "  Surrogate splits:\n",
      "      TOTAL_MEALS_ORDERED < -1.1234   to the right, agree=0.975, adj=0.125, (0 split)\n",
      "\n",
      "Node number 41: 53 observations,    complexity param=0.010707\n",
      "  predicted class=1  expected loss=0.39623  P(node) =0.036301\n",
      "    class counts:    21    32\n",
      "   probabilities: 0.396 0.604 \n",
      "  left son=82 (13 obs) right son=83 (40 obs)\n",
      "  Primary splits:\n",
      "      TOTAL_MEALS_ORDERED < 0.033735  to the right, improve=3.0200, (0 missing)\n",
      "      EMAIL_DOMAIN        splits as  ---R-----L-LRR--L----L-----R---R-R-L--R, improve=2.3585, (0 missing)\n",
      "      UNIQUE_MEALS_PURCH  < 1.0371    to the left,  improve=2.1631, (0 missing)\n",
      "      MOBILE_LOGINS       < -0.02743  to the left,  improve=2.1473, (0 missing)\n",
      "      LATE_DELIVERIES     < 0.19285   to the right, improve=2.1353, (0 missing)\n",
      "  Surrogate splits:\n",
      "      AVG_PREP_VID_TIME   < 0.90487   to the right, agree=0.887, adj=0.538, (0 split)\n",
      "      REVENUE             < 0.57012   to the right, agree=0.849, adj=0.385, (0 split)\n",
      "      LARGEST_ORDER_SIZE  < 1.3303    to the right, agree=0.811, adj=0.231, (0 split)\n",
      "      MEDIAN_MEAL_RATING  < 0.93194   to the right, agree=0.811, adj=0.231, (0 split)\n",
      "      TOTAL_PHOTOS_VIEWED < 0.43403   to the right, agree=0.811, adj=0.231, (0 split)\n",
      "\n",
      "Node number 80: 276 observations\n",
      "  predicted class=0  expected loss=0.35507  P(node) =0.18904\n",
      "    class counts:   178    98\n",
      "   probabilities: 0.645 0.355 \n",
      "\n",
      "Node number 81: 8 observations\n",
      "  predicted class=1  expected loss=0.125  P(node) =0.0054795\n",
      "    class counts:     1     7\n",
      "   probabilities: 0.125 0.875 \n",
      "\n",
      "Node number 82: 13 observations\n",
      "  predicted class=0  expected loss=0.30769  P(node) =0.0089041\n",
      "    class counts:     9     4\n",
      "   probabilities: 0.692 0.308 \n",
      "\n",
      "Node number 83: 40 observations\n",
      "  predicted class=1  expected loss=0.3  P(node) =0.027397\n",
      "    class counts:    12    28\n",
      "   probabilities: 0.300 0.700 \n",
      "\n"
     ]
    }
   ],
   "source": [
    "# building a model\n",
    "model <- rpart(formula = Y ~ .     ,\n",
    "               data    = train_data,\n",
    "               method  = \"class\")    # classification tree\n",
    "\n",
    "\n",
    "# checking model summary\n",
    "summary(model)"
   ]
  },
  {
   "cell_type": "markdown",
   "metadata": {
    "id": "qy2YvRUBDadK"
   },
   "source": [
    "In analyzing the CART model, we found that FOLLOWED_RECOMMENDATIONS_PCT is the most crucial factor in predicting whether customers will subscribe to the “Halfway There” promotion, accounting for 62% of the importance. The next key factors are EMAIL_DOMAIN (18%) and EMAIL_DOMAIN_GROUP (8%). I'm not sure if I should leave the domain group in in this case but I will just go with it. The model starts by splitting on how often customers follow recommendations with those who do being more likely to subscribe. Next splits involve email domains and cancellations before noon. For instance, at one point the model accurately predicted 601 out of 601 customers to subscribe based on these splits. The overall performance indicates that our model is quite effective in identifying potential subscribers. The decision tree’s simple, step-by-step splits help us understand which customer behaviors and characteristics matter most for the promotion."
   ]
  },
  {
   "cell_type": "code",
   "execution_count": 110,
   "metadata": {
    "colab": {
     "base_uri": "https://localhost:8080/",
     "height": 497
    },
    "id": "qvfsEgNN5_zi",
    "outputId": "2b192cae-7648-4fd4-e577-33966c277a95"
   },
   "outputs": [
    {
     "data": {
      "image/png": "[encoded data removed]",
      "text/plain": [
       "plot without title"
      ]
     },
     "metadata": {
      "image/png": {
       "height": 480,
       "width": 600
      }
     },
     "output_type": "display_data"
    }
   ],
   "source": [
    "# visualizing the decision tree\n",
    "rpart.plot(x             = model, # decision tree\n",
    "           type          = 5,     # tree format\n",
    "           extra         = 101,   # adding percentages\n",
    "           under         = TRUE,  # text under nodes\n",
    "           fallen.leaves = TRUE)  # better node positioning"
   ]
  },
  {
   "cell_type": "markdown",
   "metadata": {
    "id": "GwqR3q82FVVi"
   },
   "source": [
    "As decribed already above. This is a visual representation of the decision tree. The decision tree shows that the most important factor for predicting subscriptions is how often customers follow recommendations. If they don’t follow recommendations much, the next important factor is their email domain. If they do follow recommendations more, cancellations before noon become significant. Each split in the tree helps us understand the customer’s behavior better leading to accurate predictions of who will subscribe to the promotion."
   ]
  },
  {
   "cell_type": "code",
   "execution_count": 111,
   "metadata": {
    "colab": {
     "base_uri": "https://localhost:8080/"
    },
    "id": "5AbN4_Pf6Rxb",
    "outputId": "edfe1cb9-f530-431b-f940-6391a2e4d341"
   },
   "outputs": [
    {
     "name": "stderr",
     "output_type": "stream",
     "text": [
      "Setting levels: control = 0, case = 1\n",
      "\n",
      "Setting direction: controls < cases\n",
      "\n",
      "Setting levels: control = 0, case = 1\n",
      "\n",
      "Setting direction: controls < cases\n",
      "\n"
     ]
    },
    {
     "name": "stdout",
     "output_type": "stream",
     "text": [
      "Training Score : 0.8967 \n",
      "Testing Score  : 0.847 \n",
      "Train-Test Gap : 0.0497 \n"
     ]
    }
   ],
   "source": [
    "# predicting on new data\n",
    "train_predictions <- predict(object  = model,\n",
    "                             newdata = train_data,\n",
    "                             type    = \"prob\")[,2]\n",
    "\n",
    "\n",
    "test_predictions  <- predict(object  = model,\n",
    "                             newdata = test_data,\n",
    "                             type    = \"prob\")[,2]\n",
    "\n",
    "\n",
    "# calculating ROC\n",
    "model_train_roc <- roc(train_data$Y, train_predictions)\n",
    "model_test_roc  <- roc(test_data $Y, test_predictions)\n",
    "\n",
    "\n",
    "# calculating AUC\n",
    "model_train_score <- auc(model_train_roc)\n",
    "model_test_score  <- auc(model_test_roc)\n",
    "\n",
    "\n",
    "# calculating train-test gap\n",
    "model_gap = abs(model_train_score - model_test_score)\n",
    "\n",
    "\n",
    "# checking results\n",
    "cat('Training Score :', round(model_train_score, 4), \"\\n\")\n",
    "cat('Testing Score  :', round(model_test_score, 4), \"\\n\")\n",
    "cat('Train-Test Gap :', round(model_gap, 4), \"\\n\")"
   ]
  },
  {
   "cell_type": "markdown",
   "metadata": {
    "id": "fwebkeEsGkCp"
   },
   "source": [
    "The CART model’s score for the training data is 0.8967, indicating excellent performance in distinguishing between subscribers and non-subscribers. For the testing data the score is slightly lower at 0.847 which still reflecting great performance. The train-test gap is 0.0497 suggesting that the model generalizes well to new data without overfitting. This means the model is reliable. We discussed in class that a 5% train-test gap is great and this is right under this figure. The CART model identified the key factors influencing customer subscriptions to the promotion and according our discussion that model performance around 85% as the best this can be a good candidate. Lets do further analysis"
   ]
  },
  {
   "cell_type": "code",
   "execution_count": 112,
   "metadata": {
    "colab": {
     "base_uri": "https://localhost:8080/",
     "height": 975
    },
    "id": "lduBMrER6cOd",
    "outputId": "63de4836-6873-4d81-8ee0-12b48e55b8be"
   },
   "outputs": [
    {
     "data": {
      "text/html": [
       "<table class=\"dataframe\">\n",
       "<caption>A data.frame: 28 × 1</caption>\n",
       "<thead>\n",
       "\t<tr><th></th><th scope=col>Overall</th></tr>\n",
       "\t<tr><th></th><th scope=col>&lt;dbl&gt;</th></tr>\n",
       "</thead>\n",
       "<tbody>\n",
       "\t<tr><th scope=row>AVG_PREP_VID_TIME</th><td>  2.21</td></tr>\n",
       "\t<tr><th scope=row>AVG_TIME_PER_SITE_VISIT</th><td> 10.70</td></tr>\n",
       "\t<tr><th scope=row>CANCELLATIONS_BEFORE_NOON</th><td> 61.01</td></tr>\n",
       "\t<tr><th scope=row>EMAIL_DOMAIN</th><td>117.53</td></tr>\n",
       "\t<tr><th scope=row>EMAIL_DOMAIN_GROUP</th><td> 89.93</td></tr>\n",
       "\t<tr><th scope=row>FOLLOWED_RECOMMENDATIONS_PCT</th><td>253.36</td></tr>\n",
       "\t<tr><th scope=row>HAS_RECOMMENDATION_PCT</th><td> 44.34</td></tr>\n",
       "\t<tr><th scope=row>LATE_DELIVERIES</th><td>  2.14</td></tr>\n",
       "\t<tr><th scope=row>LATE_DELIVERY_RATIO</th><td>  8.51</td></tr>\n",
       "\t<tr><th scope=row>MOBILE_LOGINS</th><td>  2.15</td></tr>\n",
       "\t<tr><th scope=row>PC_LOGINS</th><td>  3.94</td></tr>\n",
       "\t<tr><th scope=row>TASTES_AND_PREFERENCES</th><td> 17.83</td></tr>\n",
       "\t<tr><th scope=row>TOTAL_MEALS_ORDERED</th><td>  3.02</td></tr>\n",
       "\t<tr><th scope=row>UNIQUE_MEALS_PURCH</th><td>  2.16</td></tr>\n",
       "\t<tr><th scope=row>REVENUE</th><td>  0.00</td></tr>\n",
       "\t<tr><th scope=row>CONTACTS_W_CUSTOMER_SERVICE</th><td>  0.00</td></tr>\n",
       "\t<tr><th scope=row>PRODUCT_CATEGORIES_VIEWED</th><td>  0.00</td></tr>\n",
       "\t<tr><th scope=row>MOBILE_NUMBER</th><td>  0.00</td></tr>\n",
       "\t<tr><th scope=row>CANCELLATIONS_AFTER_NOON</th><td>  0.00</td></tr>\n",
       "\t<tr><th scope=row>WEEKLY_PLAN</th><td>  0.00</td></tr>\n",
       "\t<tr><th scope=row>EARLY_DELIVERIES</th><td>  0.00</td></tr>\n",
       "\t<tr><th scope=row>PACKAGE_LOCKER</th><td>  0.00</td></tr>\n",
       "\t<tr><th scope=row>REFRIGERATED_LOCKER</th><td>  0.00</td></tr>\n",
       "\t<tr><th scope=row>LARGEST_ORDER_SIZE</th><td>  0.00</td></tr>\n",
       "\t<tr><th scope=row>MASTER_CLASSES_ATTENDED</th><td>  0.00</td></tr>\n",
       "\t<tr><th scope=row>MEDIAN_MEAL_RATING</th><td>  0.00</td></tr>\n",
       "\t<tr><th scope=row>AVG_CLICKS_PER_VISIT</th><td>  0.00</td></tr>\n",
       "\t<tr><th scope=row>TOTAL_PHOTOS_VIEWED</th><td>  0.00</td></tr>\n",
       "</tbody>\n",
       "</table>\n"
      ],
      "text/latex": [
       "A data.frame: 28 × 1\n",
       "\\begin{tabular}{r|l}\n",
       "  & Overall\\\\\n",
       "  & <dbl>\\\\\n",
       "\\hline\n",
       "\tAVG\\_PREP\\_VID\\_TIME &   2.21\\\\\n",
       "\tAVG\\_TIME\\_PER\\_SITE\\_VISIT &  10.70\\\\\n",
       "\tCANCELLATIONS\\_BEFORE\\_NOON &  61.01\\\\\n",
       "\tEMAIL\\_DOMAIN & 117.53\\\\\n",
       "\tEMAIL\\_DOMAIN\\_GROUP &  89.93\\\\\n",
       "\tFOLLOWED\\_RECOMMENDATIONS\\_PCT & 253.36\\\\\n",
       "\tHAS\\_RECOMMENDATION\\_PCT &  44.34\\\\\n",
       "\tLATE\\_DELIVERIES &   2.14\\\\\n",
       "\tLATE\\_DELIVERY\\_RATIO &   8.51\\\\\n",
       "\tMOBILE\\_LOGINS &   2.15\\\\\n",
       "\tPC\\_LOGINS &   3.94\\\\\n",
       "\tTASTES\\_AND\\_PREFERENCES &  17.83\\\\\n",
       "\tTOTAL\\_MEALS\\_ORDERED &   3.02\\\\\n",
       "\tUNIQUE\\_MEALS\\_PURCH &   2.16\\\\\n",
       "\tREVENUE &   0.00\\\\\n",
       "\tCONTACTS\\_W\\_CUSTOMER\\_SERVICE &   0.00\\\\\n",
       "\tPRODUCT\\_CATEGORIES\\_VIEWED &   0.00\\\\\n",
       "\tMOBILE\\_NUMBER &   0.00\\\\\n",
       "\tCANCELLATIONS\\_AFTER\\_NOON &   0.00\\\\\n",
       "\tWEEKLY\\_PLAN &   0.00\\\\\n",
       "\tEARLY\\_DELIVERIES &   0.00\\\\\n",
       "\tPACKAGE\\_LOCKER &   0.00\\\\\n",
       "\tREFRIGERATED\\_LOCKER &   0.00\\\\\n",
       "\tLARGEST\\_ORDER\\_SIZE &   0.00\\\\\n",
       "\tMASTER\\_CLASSES\\_ATTENDED &   0.00\\\\\n",
       "\tMEDIAN\\_MEAL\\_RATING &   0.00\\\\\n",
       "\tAVG\\_CLICKS\\_PER\\_VISIT &   0.00\\\\\n",
       "\tTOTAL\\_PHOTOS\\_VIEWED &   0.00\\\\\n",
       "\\end{tabular}\n"
      ],
      "text/markdown": [
       "\n",
       "A data.frame: 28 × 1\n",
       "\n",
       "| <!--/--> | Overall &lt;dbl&gt; |\n",
       "|---|---|\n",
       "| AVG_PREP_VID_TIME |   2.21 |\n",
       "| AVG_TIME_PER_SITE_VISIT |  10.70 |\n",
       "| CANCELLATIONS_BEFORE_NOON |  61.01 |\n",
       "| EMAIL_DOMAIN | 117.53 |\n",
       "| EMAIL_DOMAIN_GROUP |  89.93 |\n",
       "| FOLLOWED_RECOMMENDATIONS_PCT | 253.36 |\n",
       "| HAS_RECOMMENDATION_PCT |  44.34 |\n",
       "| LATE_DELIVERIES |   2.14 |\n",
       "| LATE_DELIVERY_RATIO |   8.51 |\n",
       "| MOBILE_LOGINS |   2.15 |\n",
       "| PC_LOGINS |   3.94 |\n",
       "| TASTES_AND_PREFERENCES |  17.83 |\n",
       "| TOTAL_MEALS_ORDERED |   3.02 |\n",
       "| UNIQUE_MEALS_PURCH |   2.16 |\n",
       "| REVENUE |   0.00 |\n",
       "| CONTACTS_W_CUSTOMER_SERVICE |   0.00 |\n",
       "| PRODUCT_CATEGORIES_VIEWED |   0.00 |\n",
       "| MOBILE_NUMBER |   0.00 |\n",
       "| CANCELLATIONS_AFTER_NOON |   0.00 |\n",
       "| WEEKLY_PLAN |   0.00 |\n",
       "| EARLY_DELIVERIES |   0.00 |\n",
       "| PACKAGE_LOCKER |   0.00 |\n",
       "| REFRIGERATED_LOCKER |   0.00 |\n",
       "| LARGEST_ORDER_SIZE |   0.00 |\n",
       "| MASTER_CLASSES_ATTENDED |   0.00 |\n",
       "| MEDIAN_MEAL_RATING |   0.00 |\n",
       "| AVG_CLICKS_PER_VISIT |   0.00 |\n",
       "| TOTAL_PHOTOS_VIEWED |   0.00 |\n",
       "\n"
      ],
      "text/plain": [
       "                             Overall\n",
       "AVG_PREP_VID_TIME              2.21 \n",
       "AVG_TIME_PER_SITE_VISIT       10.70 \n",
       "CANCELLATIONS_BEFORE_NOON     61.01 \n",
       "EMAIL_DOMAIN                 117.53 \n",
       "EMAIL_DOMAIN_GROUP            89.93 \n",
       "FOLLOWED_RECOMMENDATIONS_PCT 253.36 \n",
       "HAS_RECOMMENDATION_PCT        44.34 \n",
       "LATE_DELIVERIES                2.14 \n",
       "LATE_DELIVERY_RATIO            8.51 \n",
       "MOBILE_LOGINS                  2.15 \n",
       "PC_LOGINS                      3.94 \n",
       "TASTES_AND_PREFERENCES        17.83 \n",
       "TOTAL_MEALS_ORDERED            3.02 \n",
       "UNIQUE_MEALS_PURCH             2.16 \n",
       "REVENUE                        0.00 \n",
       "CONTACTS_W_CUSTOMER_SERVICE    0.00 \n",
       "PRODUCT_CATEGORIES_VIEWED      0.00 \n",
       "MOBILE_NUMBER                  0.00 \n",
       "CANCELLATIONS_AFTER_NOON       0.00 \n",
       "WEEKLY_PLAN                    0.00 \n",
       "EARLY_DELIVERIES               0.00 \n",
       "PACKAGE_LOCKER                 0.00 \n",
       "REFRIGERATED_LOCKER            0.00 \n",
       "LARGEST_ORDER_SIZE             0.00 \n",
       "MASTER_CLASSES_ATTENDED        0.00 \n",
       "MEDIAN_MEAL_RATING             0.00 \n",
       "AVG_CLICKS_PER_VISIT           0.00 \n",
       "TOTAL_PHOTOS_VIEWED            0.00 "
      ]
     },
     "metadata": {},
     "output_type": "display_data"
    }
   ],
   "source": [
    "# feature importance\n",
    "importance <- varImp(object = model) %>%\n",
    "              round(x = ., digits = 2)\n",
    "\n",
    "\n",
    "# checking results\n",
    "importance"
   ]
  },
  {
   "cell_type": "markdown",
   "metadata": {
    "id": "seDPGLWx7USR"
   },
   "source": [
    "**TREE MODEL**"
   ]
  },
  {
   "cell_type": "code",
   "execution_count": 114,
   "metadata": {
    "colab": {
     "base_uri": "https://localhost:8080/"
    },
    "id": "Y4uAPvb47Mux",
    "outputId": "5a980631-8073-46bf-e1f4-aac32be5d2c2"
   },
   "outputs": [
    {
     "name": "stdout",
     "output_type": "stream",
     "text": [
      "Call:\n",
      "rpart(formula = Y ~ ., data = train_data, method = \"class\", control = c(minbucket = 100, \n",
      "    maxdepth = 4))\n",
      "  n= 1460 \n",
      "\n",
      "        CP nsplit rel error  xerror     xstd\n",
      "1 0.160600      0   1.00000 1.00000 0.038163\n",
      "2 0.119914      1   0.83940 0.85867 0.036520\n",
      "3 0.062099      2   0.71949 0.78801 0.035526\n",
      "4 0.010000      4   0.59529 0.67880 0.033733\n",
      "\n",
      "Variable importance\n",
      "FOLLOWED_RECOMMENDATIONS_PCT                 EMAIL_DOMAIN           EMAIL_DOMAIN_GROUP    CANCELLATIONS_BEFORE_NOON          LATE_DELIVERY_RATIO \n",
      "                          66                           17                           10                            5                            1 \n",
      "\n",
      "Node number 1: 1460 observations,    complexity param=0.1606\n",
      "  predicted class=1  expected loss=0.31986  P(node) =1\n",
      "    class counts:   467   993\n",
      "   probabilities: 0.320 0.680 \n",
      "  left son=2 (859 obs) right son=3 (601 obs)\n",
      "  Primary splits:\n",
      "      FOLLOWED_RECOMMENDATIONS_PCT < -0.015468 to the left,  improve=209.0200, (0 missing)\n",
      "      EMAIL_DOMAIN                 splits as  RLRRRRRRRRRRRRRLRRRRLRLRRRLRLRRRRRRRRRR, improve= 49.4890, (0 missing)\n",
      "      EMAIL_DOMAIN_GROUP           splits as  LRR, improve= 49.4890, (0 missing)\n",
      "      CANCELLATIONS_BEFORE_NOON    < 0.061346  to the left,  improve= 22.1000, (0 missing)\n",
      "      TASTES_AND_PREFERENCES       < -0.47422  to the left,  improve=  7.1296, (0 missing)\n",
      "  Surrogate splits:\n",
      "      EMAIL_DOMAIN              splits as  RLLRRRRLLLLLLLRLLLLRLRLRLLLRLLRLLLLRLRL, agree=0.612, adj=0.057, (0 split)\n",
      "      MEDIAN_MEAL_RATING        < 2.2538    to the left,  agree=0.591, adj=0.007, (0 split)\n",
      "      LATE_DELIVERY_RATIO       < 5.2086    to the left,  agree=0.591, adj=0.007, (0 split)\n",
      "      CANCELLATIONS_BEFORE_NOON < 0.70664   to the left,  agree=0.590, adj=0.003, (0 split)\n",
      "      AVG_PREP_VID_TIME         < 2.1193    to the left,  agree=0.590, adj=0.003, (0 split)\n",
      "\n",
      "Node number 2: 859 observations,    complexity param=0.11991\n",
      "  predicted class=0  expected loss=0.45634  P(node) =0.58836\n",
      "    class counts:   467   392\n",
      "   probabilities: 0.544 0.456 \n",
      "  left son=4 (263 obs) right son=5 (596 obs)\n",
      "  Primary splits:\n",
      "      EMAIL_DOMAIN                 splits as  RLRRRRRRLRLRRRLLRRRRLRLRRRLRLRRRLRRRRRR, improve=31.982, (0 missing)\n",
      "      EMAIL_DOMAIN_GROUP           splits as  LRR, improve=29.182, (0 missing)\n",
      "      CANCELLATIONS_BEFORE_NOON    < 0.061346  to the left,  improve=20.287, (0 missing)\n",
      "      FOLLOWED_RECOMMENDATIONS_PCT < -1.1442   to the right, improve=18.381, (0 missing)\n",
      "      HAS_RECOMMENDATION_PCT       < -1.5521   to the right, improve=18.381, (0 missing)\n",
      "  Surrogate splits:\n",
      "      EMAIL_DOMAIN_GROUP          splits as  LRR, agree=0.960, adj=0.871, (0 split)\n",
      "      AVG_PREP_VID_TIME           < -1.5917   to the left,  agree=0.700, adj=0.019, (0 split)\n",
      "      CONTACTS_W_CUSTOMER_SERVICE < -1.9654   to the left,  agree=0.695, adj=0.004, (0 split)\n",
      "      CANCELLATIONS_BEFORE_NOON   < 4.5784    to the right, agree=0.695, adj=0.004, (0 split)\n",
      "      LARGEST_ORDER_SIZE          < -1.8935   to the left,  agree=0.695, adj=0.004, (0 split)\n",
      "\n",
      "Node number 3: 601 observations\n",
      "  predicted class=1  expected loss=0  P(node) =0.41164\n",
      "    class counts:     0   601\n",
      "   probabilities: 0.000 1.000 \n",
      "\n",
      "Node number 4: 263 observations\n",
      "  predicted class=0  expected loss=0.25095  P(node) =0.18014\n",
      "    class counts:   197    66\n",
      "   probabilities: 0.749 0.251 \n",
      "\n",
      "Node number 5: 596 observations,    complexity param=0.062099\n",
      "  predicted class=1  expected loss=0.45302  P(node) =0.40822\n",
      "    class counts:   270   326\n",
      "   probabilities: 0.453 0.547 \n",
      "  left son=10 (390 obs) right son=11 (206 obs)\n",
      "  Primary splits:\n",
      "      CANCELLATIONS_BEFORE_NOON    < 0.061346  to the left,  improve=14.5560, (0 missing)\n",
      "      EMAIL_DOMAIN                 splits as  R-RRLLLL-L-LLR--LRLR-L-RRL-L-RRL-RRLLLL, improve=12.9470, (0 missing)\n",
      "      FOLLOWED_RECOMMENDATIONS_PCT < -1.1442   to the right, improve= 7.3219, (0 missing)\n",
      "      HAS_RECOMMENDATION_PCT       < -1.5521   to the right, improve= 7.3219, (0 missing)\n",
      "      EMAIL_DOMAIN_GROUP           splits as  -LR, improve= 5.0185, (0 missing)\n",
      "  Surrogate splits:\n",
      "      EMAIL_DOMAIN        splits as  L-RLLRLL-R-LLL--LLLL-R-LLR-L-RLL-LLLLLL, agree=0.674, adj=0.058, (0 split)\n",
      "      EARLY_DELIVERIES    < 1.7312    to the left,  agree=0.664, adj=0.029, (0 split)\n",
      "      TOTAL_MEALS_ORDERED < 4.9063    to the left,  agree=0.659, adj=0.015, (0 split)\n",
      "      MOBILE_LOGINS       < 1.6945    to the left,  agree=0.658, adj=0.010, (0 split)\n",
      "      AVG_PREP_VID_TIME   < -1.7586   to the right, agree=0.658, adj=0.010, (0 split)\n",
      "\n",
      "Node number 10: 390 observations,    complexity param=0.062099\n",
      "  predicted class=0  expected loss=0.46667  P(node) =0.26712\n",
      "    class counts:   208   182\n",
      "   probabilities: 0.533 0.467 \n",
      "  left son=20 (220 obs) right son=21 (170 obs)\n",
      "  Primary splits:\n",
      "      EMAIL_DOMAIN              splits as  R-LRLRLR-L-RRR--LRLR-L-RRR-L-RRL-RRLRLL, improve=9.7906, (0 missing)\n",
      "      EMAIL_DOMAIN_GROUP        splits as  -LR, improve=6.2446, (0 missing)\n",
      "      TASTES_AND_PREFERENCES    < -0.47422  to the left,  improve=4.0404, (0 missing)\n",
      "      CANCELLATIONS_BEFORE_NOON < -0.58395  to the left,  improve=2.3499, (0 missing)\n",
      "      AVG_TIME_PER_SITE_VISIT   < 0.2176    to the left,  improve=2.2380, (0 missing)\n",
      "  Surrogate splits:\n",
      "      EMAIL_DOMAIN_GROUP  splits as  -LR, agree=0.662, adj=0.224, (0 split)\n",
      "      UNIQUE_MEALS_PURCH  < -1.3608   to the right, agree=0.587, adj=0.053, (0 split)\n",
      "      TOTAL_MEALS_ORDERED < -1.1234   to the right, agree=0.579, adj=0.035, (0 split)\n",
      "      LATE_DELIVERY_RATIO < 1.634     to the left,  agree=0.577, adj=0.029, (0 split)\n",
      "      EARLY_DELIVERIES    < 1.2999    to the left,  agree=0.574, adj=0.024, (0 split)\n",
      "\n",
      "Node number 11: 206 observations\n",
      "  predicted class=1  expected loss=0.30097  P(node) =0.1411\n",
      "    class counts:    62   144\n",
      "   probabilities: 0.301 0.699 \n",
      "\n",
      "Node number 20: 220 observations\n",
      "  predicted class=0  expected loss=0.36818  P(node) =0.15068\n",
      "    class counts:   139    81\n",
      "   probabilities: 0.632 0.368 \n",
      "\n",
      "Node number 21: 170 observations\n",
      "  predicted class=1  expected loss=0.40588  P(node) =0.11644\n",
      "    class counts:    69   101\n",
      "   probabilities: 0.406 0.594 \n",
      "\n"
     ]
    }
   ],
   "source": [
    "# building a model\n",
    "model <- rpart(formula = Y ~ .,\n",
    "               data    = train_data,\n",
    "               method  = \"class\",\n",
    "               control = c(minbucket = 100, # min obs per terminal node\n",
    "                           maxdepth  = 4)   # how big the tree can grow\n",
    "               )\n",
    "\n",
    "\n",
    "# checking model summary\n",
    "summary(model)"
   ]
  },
  {
   "cell_type": "markdown",
   "metadata": {
    "id": "SkL64qEYLvHo"
   },
   "source": [
    "The decision tree model shows us that FOLLOWED_RECOMMENDATIONS_PCT is the most critical factor in predicting subscriptions to the promotion with an importance score of 66%. Other important factors include EMAIL_DOMAIN (17%) and CANCELLATIONS_BEFORE_NOON (5%). The model’s cross-validated error decreased from 1 to 0.678, indicating strong performance. The root node correctly classifies 68% of subscribers and the first split on FOLLOWED_RECOMMENDATIONS_PCT improves the model’s accuracy"
   ]
  },
  {
   "cell_type": "code",
   "execution_count": 115,
   "metadata": {
    "colab": {
     "base_uri": "https://localhost:8080/",
     "height": 497
    },
    "id": "gBwdLEMV7WDk",
    "outputId": "11b4f9cf-5974-4978-9b67-5f045035a30b"
   },
   "outputs": [
    {
     "data": {
      "image/png": "[encoded data removed]",
      "text/plain": [
       "plot without title"
      ]
     },
     "metadata": {
      "image/png": {
       "height": 480,
       "width": 600
      }
     },
     "output_type": "display_data"
    }
   ],
   "source": [
    "# visualizing the decision tree\n",
    "rpart.plot(x             = model, # decision tree\n",
    "           type          = 5,     # tree format\n",
    "           extra         = 101,   # adding percentages\n",
    "           under         = TRUE,  # text under nodes\n",
    "           fallen.leaves = TRUE)  # better node positioning"
   ]
  },
  {
   "cell_type": "markdown",
   "metadata": {
    "id": "iiqiN39pMks9"
   },
   "source": [
    "The decision tree visualization shows that FOLLOWED_RECOMMENDATIONS_PCT is the most crucial factor in predicting subscriptions to the promotion. The tree starts with a primary split based on whether the FOLLOWED_RECOMMENDATIONS_PCT is less than -0.015. For customers who follow recommendations less frequently, the model further splits based on EMAIL_DOMAIN highlighting the importance of the email domain in these cases. For those who follow recommendations more frequently the next split is based on CANCELLATIONS_BEFORE_NOON that indicates that cancellation behavior before noon is a significant predictor. The leaf nodes at the bottom of the tree provide the final predictions with some nodes showing a 100% probability of customers subscribing."
   ]
  },
  {
   "cell_type": "code",
   "execution_count": 116,
   "metadata": {
    "colab": {
     "base_uri": "https://localhost:8080/"
    },
    "id": "QXMJWLvj7ZIX",
    "outputId": "a86b8fd4-3401-4439-eeca-e96868fdcd8f"
   },
   "outputs": [
    {
     "name": "stderr",
     "output_type": "stream",
     "text": [
      "Setting levels: control = 0, case = 1\n",
      "\n",
      "Setting direction: controls < cases\n",
      "\n",
      "Setting levels: control = 0, case = 1\n",
      "\n",
      "Setting direction: controls < cases\n",
      "\n"
     ]
    },
    {
     "name": "stdout",
     "output_type": "stream",
     "text": [
      "Training Score : 0.8819 \n",
      "Testing Score  : 0.8319 \n",
      "Train-Test Gap : 0.05 \n"
     ]
    }
   ],
   "source": [
    "# predicting on new data\n",
    "train_predictions <- predict(object  = model,\n",
    "                             newdata = train_data,\n",
    "                             type    = \"prob\")[,2]\n",
    "\n",
    "\n",
    "test_predictions  <- predict(object  = model,\n",
    "                             newdata = test_data,\n",
    "                             type    = \"prob\")[,2]\n",
    "\n",
    "\n",
    "# calculating ROC\n",
    "model_train_roc <- roc(train_data$Y, train_predictions)\n",
    "model_test_roc  <- roc(test_data $Y, test_predictions)\n",
    "\n",
    "\n",
    "# calculating AUC\n",
    "model_train_score <- auc(model_train_roc)\n",
    "model_test_score  <- auc(model_test_roc)\n",
    "\n",
    "\n",
    "# calculating train-test gap\n",
    "model_gap = abs(model_train_score - model_test_score)\n",
    "\n",
    "\n",
    "# checking results\n",
    "cat('Training Score :', round(model_train_score, 4), \"\\n\")\n",
    "cat('Testing Score  :', round(model_test_score, 4), \"\\n\")\n",
    "cat('Train-Test Gap :', round(model_gap, 4), \"\\n\")"
   ]
  },
  {
   "cell_type": "markdown",
   "metadata": {
    "id": "onrdHpFSOItC"
   },
   "source": [
    "The decision tree model performs also well with an score of 0.8819 on the training data and 0.8319 on the testing data. The train-test gap is 0.05, which is within the acceptable range discussed in class indicating that the model generalizes well to new data without overfitting. These high scores show that the model is effective in distinguishing between subscribers and non-subscribers."
   ]
  },
  {
   "cell_type": "code",
   "execution_count": 117,
   "metadata": {
    "colab": {
     "base_uri": "https://localhost:8080/",
     "height": 497
    },
    "id": "tP0iJVev7che",
    "outputId": "38ca7ee3-93b6-4d30-f535-7c5a8ca30ca8"
   },
   "outputs": [
    {
     "data": {
      "image/png": "[encoded data removed]",
      "text/plain": [
       "plot without title"
      ]
     },
     "metadata": {
      "image/png": {
       "height": 480,
       "width": 600
      }
     },
     "output_type": "display_data"
    }
   ],
   "source": [
    "# feature importance\n",
    "importance <- varImp(object = model) %>%\n",
    "              round(x = ., digits = 2)\n",
    "\n",
    "\n",
    "# configuring row names\n",
    "importance$Feature   <- rownames(importance)\n",
    "\n",
    "\n",
    "# configuring column names\n",
    "colnames(importance) <- c(\"Importance\", \"Feature\")\n",
    "\n",
    "\n",
    "# setting plot space\n",
    "ggplot(importance,\n",
    "       aes(x = reorder(Feature,\n",
    "                       Importance),\n",
    "           y = Importance)) +\n",
    "\n",
    "\n",
    "# adding a layer (barplot)\n",
    "geom_bar(stat = \"identity\",\n",
    "         fill = \"steelblue\") +\n",
    "\n",
    "\n",
    "# orienting horizonally (instead of vertically)\n",
    "coord_flip() +\n",
    "\n",
    "\n",
    "# title and labels\n",
    "labs(title = \"Feature Importance\",\n",
    "     x     = \"Features\",\n",
    "     y     = \"Importance\") +\n",
    "\n",
    "\n",
    "# minimizing theme\n",
    "theme_minimal()"
   ]
  },
  {
   "cell_type": "markdown",
   "metadata": {
    "id": "LJcQi-CqO3ZD"
   },
   "source": [
    "The feature importance plot highlights that FOLLOWED_RECOMMENDATIONS_PCT is the most significant factor in predicting subscriptions followed by EMAIL_DOMAIN, EMAIL_DOMAIN_GROUP, and CANCELLATIONS_BEFORE_NOON. Customers who frequently follow recommendations and have certain email domains are more likely to subscribe.\n",
    "Some features like REVENUE have no importance because they either lack a direct correlation with subscription behavior which is strange. This could be also caused by the data but I will just trust the model"
   ]
  },
  {
   "cell_type": "markdown",
   "metadata": {
    "id": "TgTKBCehSP5h"
   },
   "source": [
    "**LOGISTIC REGRESSION**"
   ]
  },
  {
   "cell_type": "code",
   "execution_count": 131,
   "metadata": {
    "id": "I26L1lzkSOZt"
   },
   "outputs": [],
   "source": [
    "# selecting x-data\n",
    "x_data <- chef %>%\n",
    "          select(-CROSS_SELL_SUCCESS)"
   ]
  },
  {
   "cell_type": "code",
   "execution_count": 132,
   "metadata": {
    "id": "piiDKcxASktD"
   },
   "outputs": [],
   "source": [
    "# setting up standardization\n",
    "scaler <- preProcess(x      = x_data,\n",
    "                     method = c(\"scale\", \"center\")) # scaling and centering\n",
    "\n",
    "\n",
    "# applying standardization\n",
    "x_scaled <- predict(object  = scaler,\n",
    "                    newdata = x_data)\n",
    "\n",
    "\n",
    "# choosing and attaching y-variable\n",
    "model_data <- cbind(x_scaled,\n",
    "                    Y = chef$CROSS_SELL_SUCCESS) # naming and selecting y-variable"
   ]
  },
  {
   "cell_type": "code",
   "execution_count": 133,
   "metadata": {
    "id": "torDJ_pvSzGc"
   },
   "outputs": [],
   "source": [
    "# creating a train-test split\n",
    "train_index <- createDataPartition(y = model_data$Y, # y-variable\n",
    "                                   p    = 0.75,      # training set proportion\n",
    "                                   list = FALSE)     # returning a DataFrame\n",
    "\n",
    "\n",
    "# creating training and testing sets\n",
    "train_data <- model_data[ train_index, ]\n",
    "test_data  <- model_data[-train_index, ]"
   ]
  },
  {
   "cell_type": "code",
   "execution_count": 134,
   "metadata": {
    "colab": {
     "base_uri": "https://localhost:8080/",
     "height": 347
    },
    "id": "bqfsF-6fS9-J",
    "outputId": "3c7eb15c-07d2-4827-e92e-740fa2535163"
   },
   "outputs": [
    {
     "data": {
      "text/plain": [
       "\n",
       "Call:\n",
       "glm(formula = Y ~ FOLLOWED_RECOMMENDATIONS_PCT, family = binomial, \n",
       "    data = train_data)\n",
       "\n",
       "Coefficients:\n",
       "                             Estimate Std. Error z value            Pr(>|z|)    \n",
       "(Intercept)                    1.1379     0.0787    14.5 <0.0000000000000002 ***\n",
       "FOLLOWED_RECOMMENDATIONS_PCT   1.4193     0.0940    15.1 <0.0000000000000002 ***\n",
       "---\n",
       "Signif. codes:  0 ‘***’ 0.001 ‘**’ 0.01 ‘*’ 0.05 ‘.’ 0.1 ‘ ’ 1\n",
       "\n",
       "(Dispersion parameter for binomial family taken to be 1)\n",
       "\n",
       "    Null deviance: 1825.6  on 1459  degrees of freedom\n",
       "Residual deviance: 1457.3  on 1458  degrees of freedom\n",
       "AIC: 1461\n",
       "\n",
       "Number of Fisher Scoring iterations: 5\n"
      ]
     },
     "metadata": {},
     "output_type": "display_data"
    }
   ],
   "source": [
    "# instantiating a logistic regression model\n",
    "logistic_small <- glm(formula = Y ~ FOLLOWED_RECOMMENDATIONS_PCT,#strongest variable\n",
    "                      data    = train_data,\n",
    "                      family  = binomial)\n",
    "\n",
    "\n",
    "# checking results\n",
    "summary(logistic_small)"
   ]
  },
  {
   "cell_type": "markdown",
   "metadata": {
    "id": "RHA04S4uVDN3"
   },
   "source": [
    "The logistic regression model confirms that FOLLOWED_RECOMMENDATIONS_PCT is a highly significant predictor of whether customers will subscribe to the promotion. The positive coefficient for FOLLOWED_RECOMMENDATIONS_PCT is 1.4193, with a p-value of less than 0.0000000000000002 which indicates strong statistical significance. This suggests that as the percentage of recommendations followed increases, the likelihood of a customer subscribing also increases."
   ]
  },
  {
   "cell_type": "code",
   "execution_count": 135,
   "metadata": {
    "colab": {
     "base_uri": "https://localhost:8080/",
     "height": 429
    },
    "id": "2vbwYWIATVUy",
    "outputId": "1101e02d-a301-423b-cc4f-81f96d458320"
   },
   "outputs": [
    {
     "data": {
      "text/html": [
       "<table class=\"dataframe\">\n",
       "<caption>A data.frame: 10 × 1</caption>\n",
       "<thead>\n",
       "\t<tr><th></th><th scope=col>.</th></tr>\n",
       "\t<tr><th></th><th scope=col>&lt;dbl&gt;</th></tr>\n",
       "</thead>\n",
       "<tbody>\n",
       "\t<tr><th scope=row>3</th><td>0.9712</td></tr>\n",
       "\t<tr><th scope=row>4</th><td>0.9829</td></tr>\n",
       "\t<tr><th scope=row>5</th><td>0.9829</td></tr>\n",
       "\t<tr><th scope=row>12</th><td>0.9712</td></tr>\n",
       "\t<tr><th scope=row>14</th><td>0.9829</td></tr>\n",
       "\t<tr><th scope=row>18</th><td>0.9829</td></tr>\n",
       "\t<tr><th scope=row>22</th><td>0.9829</td></tr>\n",
       "\t<tr><th scope=row>25</th><td>0.9829</td></tr>\n",
       "\t<tr><th scope=row>35</th><td>0.9519</td></tr>\n",
       "\t<tr><th scope=row>36</th><td>0.9519</td></tr>\n",
       "</tbody>\n",
       "</table>\n"
      ],
      "text/latex": [
       "A data.frame: 10 × 1\n",
       "\\begin{tabular}{r|l}\n",
       "  & .\\\\\n",
       "  & <dbl>\\\\\n",
       "\\hline\n",
       "\t3 & 0.9712\\\\\n",
       "\t4 & 0.9829\\\\\n",
       "\t5 & 0.9829\\\\\n",
       "\t12 & 0.9712\\\\\n",
       "\t14 & 0.9829\\\\\n",
       "\t18 & 0.9829\\\\\n",
       "\t22 & 0.9829\\\\\n",
       "\t25 & 0.9829\\\\\n",
       "\t35 & 0.9519\\\\\n",
       "\t36 & 0.9519\\\\\n",
       "\\end{tabular}\n"
      ],
      "text/markdown": [
       "\n",
       "A data.frame: 10 × 1\n",
       "\n",
       "| <!--/--> | . &lt;dbl&gt; |\n",
       "|---|---|\n",
       "| 3 | 0.9712 |\n",
       "| 4 | 0.9829 |\n",
       "| 5 | 0.9829 |\n",
       "| 12 | 0.9712 |\n",
       "| 14 | 0.9829 |\n",
       "| 18 | 0.9829 |\n",
       "| 22 | 0.9829 |\n",
       "| 25 | 0.9829 |\n",
       "| 35 | 0.9519 |\n",
       "| 36 | 0.9519 |\n",
       "\n"
      ],
      "text/plain": [
       "   .     \n",
       "3  0.9712\n",
       "4  0.9829\n",
       "5  0.9829\n",
       "12 0.9712\n",
       "14 0.9829\n",
       "18 0.9829\n",
       "22 0.9829\n",
       "25 0.9829\n",
       "35 0.9519\n",
       "36 0.9519"
      ]
     },
     "metadata": {},
     "output_type": "display_data"
    }
   ],
   "source": [
    "# predicting on the test set\n",
    "logreg_pred <- predict(object  = logistic_small,\n",
    "                       newdata = test_data,\n",
    "                       type    = \"response\")\n",
    "\n",
    "\n",
    "# checking results\n",
    "logreg_pred                  %>%\n",
    "    round(x = ., digits = 4) %>%\n",
    "    as.data.frame(.)         %>%\n",
    "    head(x = ., n = 10)"
   ]
  },
  {
   "cell_type": "markdown",
   "metadata": {
    "id": "2GhNp_o6VwRV"
   },
   "source": [
    "The first column in the prediction output represents the row indices from the original test dataset and indicates which specific data points the model’s predicted probabilities refer to in the original data set. The second column contains the probabilities that customers will subscribe to the promotion. The customer in row 3 has a 97.12% chance of subscribing. This detailed prediction information helps in identifying and targeting potential subscribers effectively and confirms the strong predictive power of the FOLLOWED_RECOMMENDATIONS_PCT feature"
   ]
  },
  {
   "cell_type": "code",
   "execution_count": 136,
   "metadata": {
    "colab": {
     "base_uri": "https://localhost:8080/",
     "height": 69
    },
    "id": "IjaoXBzJTY8O",
    "outputId": "0af8c698-845f-408d-8fdc-d3a0d2e57d40"
   },
   "outputs": [
    {
     "data": {
      "text/plain": [
       "Subscription Predictions\n",
       "  0   1 \n",
       "138 348 "
      ]
     },
     "metadata": {},
     "output_type": "display_data"
    }
   ],
   "source": [
    "# converting results into 1s subscribe and 0s did not subscribe\n",
    "logreg_pred_class <- ifelse(test = logreg_pred > 0.5,\n",
    "                            yes  = 1,\n",
    "                            no   = 0)\n",
    "\n",
    "\n",
    "# checking results\n",
    "table('Subscription Predictions' = logreg_pred_class)"
   ]
  },
  {
   "cell_type": "markdown",
   "metadata": {
    "id": "IwNyF2NuWjou"
   },
   "source": [
    "The logistic regression model’s predicted probabilities were converted into binary class labels using a threshold of 0.5. The model predicts that 138 customers will not subscribe to the promotion and 348 customers are predicted to subscribe. The high number of predicted subscribers confirms that the model has strong predictive power for identifying potential customers who are likely to subscribe based on their engagement with recommendations."
   ]
  },
  {
   "cell_type": "markdown",
   "metadata": {
    "id": "3gkiwX5V7nY2"
   },
   "source": [
    "**CONFUSION MATRIX**"
   ]
  },
  {
   "cell_type": "code",
   "execution_count": 137,
   "metadata": {
    "colab": {
     "base_uri": "https://localhost:8080/",
     "height": 486
    },
    "id": "mJneDU8D7kjK",
    "outputId": "67d4dfd8-dfa4-4b9e-eeae-ab014d8e15ea"
   },
   "outputs": [
    {
     "data": {
      "text/plain": [
       "Confusion Matrix and Statistics\n",
       "\n",
       "          Reference\n",
       "Prediction   0   1\n",
       "         0  98  60\n",
       "         1  63 265\n",
       "                                        \n",
       "               Accuracy : 0.747         \n",
       "                 95% CI : (0.706, 0.785)\n",
       "    No Information Rate : 0.669         \n",
       "    P-Value [Acc > NIR] : 0.000111      \n",
       "                                        \n",
       "                  Kappa : 0.426         \n",
       "                                        \n",
       " Mcnemar's Test P-Value : 0.856890      \n",
       "                                        \n",
       "            Sensitivity : 0.815         \n",
       "            Specificity : 0.609         \n",
       "         Pos Pred Value : 0.808         \n",
       "         Neg Pred Value : 0.620         \n",
       "             Prevalence : 0.669         \n",
       "         Detection Rate : 0.545         \n",
       "   Detection Prevalence : 0.675         \n",
       "      Balanced Accuracy : 0.712         \n",
       "                                        \n",
       "       'Positive' Class : 1             \n",
       "                                        "
      ]
     },
     "metadata": {},
     "output_type": "display_data"
    }
   ],
   "source": [
    "# converting results into 1s (subscribe) and 0s (did not subscribe)\n",
    "tree_pred_class <- ifelse(test = test_predictions > 0.5,\n",
    "                          yes  = 1,\n",
    "                          no   = 0)\n",
    "\n",
    "\n",
    "# developing a confusion matrix\n",
    "confusionMatrix(data      = as.factor(tree_pred_class),\n",
    "                reference = as.factor(test_data$Y),\n",
    "                positive  = '1')"
   ]
  },
  {
   "cell_type": "code",
   "execution_count": 119,
   "metadata": {
    "id": "L-kmgof47q9V"
   },
   "outputs": [],
   "source": []
  },
  {
   "cell_type": "markdown",
   "metadata": {
    "id": "uuvR7Ql2Yxli"
   },
   "source": [
    "The confusion matrix for the logistic regression model shows that the model correctly predicted 265 subscribers and 98 non-subscribers. 63 subscribers were predicted incorectly as well as 60 non-subscribers were predicted incorectly. The model achieved an accuracy of 74.7%, a sensitivity of 81.5%. These metrics indicate that the model is effective at identifying potential subscribers, The high sensitivity and positive predictive value suggest that the model is reliable in predicting customers who are likely to subscribe, reinforcing the importance of customer engagement with recommendations."
   ]
  },
  {
   "cell_type": "markdown",
   "metadata": {
    "id": "kq9horc4cmNh"
   },
   "source": [
    "**FINAL SUMMARY AND RECOMMENDATION**\n",
    "\n",
    "- The CART model has the highest training score (0.8967) and testing score (0.847) among the models and indicates the performance slightly better on the training and testing datasets compared to the tree model.\n",
    "- The tree model has a slightly lower training score (0.8819) and testing score (0.8319) than the CART model but still performs well.\n",
    "- The logistic regression model shows that the FOLLOWED_RECOMMENDATIONS_PCT feature is highly significant in predicting subscriptions though direct comparison in terms of training and testing scores with tree models requires additional metrics like AUC.\n",
    "\n",
    "Based on the comparison I recommend the CART model as the final model for predicting customer subscriptions. It has the highest testing score (0.847) and the lowest train-test gap (0.0497) which indicates strong generalization performance. Additionally, the CART model’s high training score suggests it effectively captures patterns in the data. The logistic regression model shows significant predictors the CART model’s overall is just more robust and better"
   ]
  }
 ],
 "metadata": {
  "colab": {
   "provenance": []
  },
  "kernelspec": {
   "display_name": "R",
   "language": "R",
   "name": "ir"
  },
  "language_info": {
   "codemirror_mode": "r",
   "file_extension": ".r",
   "mimetype": "text/x-r-source",
   "name": "R",
   "pygments_lexer": "r",
   "version": "4.1.1"
  }
 },
 "nbformat": 4,
 "nbformat_minor": 4
}
